{
 "cells": [
  {
   "cell_type": "code",
   "execution_count": 1,
   "metadata": {},
   "outputs": [],
   "source": [
    "import requests\n",
    "from bs4 import BeautifulSoup\n",
    "import pandas as pd"
   ]
  },
  {
   "cell_type": "code",
   "execution_count": 2,
   "metadata": {},
   "outputs": [],
   "source": [
    "request = requests.get('https://books.toscrape.com/')"
   ]
  },
  {
   "cell_type": "code",
   "execution_count": 3,
   "metadata": {},
   "outputs": [],
   "source": [
    "soup = BeautifulSoup(request.text, 'html.parser')"
   ]
  },
  {
   "cell_type": "code",
   "execution_count": 36,
   "metadata": {},
   "outputs": [],
   "source": [
    "df = pd.DataFrame([])"
   ]
  },
  {
   "cell_type": "code",
   "execution_count": 44,
   "metadata": {},
   "outputs": [],
   "source": [
    "i1 = 0\n",
    "i2 = 0\n",
    "i3 = 0\n",
    "\n",
    "url = 'https://books.toscrape.com/'\n",
    "\n",
    "for cat in soup.find_all('a')[3:53]:\n",
    "    \n",
    "    cat_url = url + cat.get('href')\n",
    "\n",
    "    r = requests.get(f'{cat_url}')\n",
    "\n",
    "    s = BeautifulSoup(r.text, 'html.parser')\n",
    "\n",
    "    for name in s.find_all('h3'):\n",
    "        \n",
    "        df.loc[i1, 'Name'] = name.find('a').get('title')\n",
    "\n",
    "        i1 += 1\n",
    "\n",
    "    for price in s.find_all('p', class_= \"price_color\"):\n",
    "    \n",
    "        df.loc[i2, 'Price'] = price.get_text()\n",
    "\n",
    "        i2 += 1\n",
    "\n",
    "    for rate in s.find_all('p', class_= \"star-rating\"):\n",
    "    \n",
    "        df.loc[i3, 'Rate'] = str(rate).split('\"')[1]\n",
    "        \n",
    "        i3 += 1"
   ]
  },
  {
   "cell_type": "code",
   "execution_count": 47,
   "metadata": {},
   "outputs": [
    {
     "data": {
      "text/html": [
       "<div>\n",
       "<style scoped>\n",
       "    .dataframe tbody tr th:only-of-type {\n",
       "        vertical-align: middle;\n",
       "    }\n",
       "\n",
       "    .dataframe tbody tr th {\n",
       "        vertical-align: top;\n",
       "    }\n",
       "\n",
       "    .dataframe thead th {\n",
       "        text-align: right;\n",
       "    }\n",
       "</style>\n",
       "<table border=\"1\" class=\"dataframe\">\n",
       "  <thead>\n",
       "    <tr style=\"text-align: right;\">\n",
       "      <th></th>\n",
       "      <th>Name</th>\n",
       "      <th>Price</th>\n",
       "      <th>Rate</th>\n",
       "    </tr>\n",
       "  </thead>\n",
       "  <tbody>\n",
       "    <tr>\n",
       "      <th>0</th>\n",
       "      <td>It's Only the Himalayas</td>\n",
       "      <td>Â£45.17</td>\n",
       "      <td>star-rating Two</td>\n",
       "    </tr>\n",
       "    <tr>\n",
       "      <th>1</th>\n",
       "      <td>Full Moon over Noahâs Ark: An Odyssey to Mou...</td>\n",
       "      <td>Â£49.43</td>\n",
       "      <td>star-rating Four</td>\n",
       "    </tr>\n",
       "    <tr>\n",
       "      <th>2</th>\n",
       "      <td>See America: A Celebration of Our National Par...</td>\n",
       "      <td>Â£48.87</td>\n",
       "      <td>star-rating Three</td>\n",
       "    </tr>\n",
       "    <tr>\n",
       "      <th>3</th>\n",
       "      <td>Vagabonding: An Uncommon Guide to the Art of L...</td>\n",
       "      <td>Â£36.94</td>\n",
       "      <td>star-rating Two</td>\n",
       "    </tr>\n",
       "    <tr>\n",
       "      <th>4</th>\n",
       "      <td>Under the Tuscan Sun</td>\n",
       "      <td>Â£37.33</td>\n",
       "      <td>star-rating Three</td>\n",
       "    </tr>\n",
       "    <tr>\n",
       "      <th>...</th>\n",
       "      <td>...</td>\n",
       "      <td>...</td>\n",
       "      <td>...</td>\n",
       "    </tr>\n",
       "    <tr>\n",
       "      <th>512</th>\n",
       "      <td>Why the Right Went Wrong: Conservatism--From G...</td>\n",
       "      <td>Â£52.65</td>\n",
       "      <td>star-rating Four</td>\n",
       "    </tr>\n",
       "    <tr>\n",
       "      <th>513</th>\n",
       "      <td>Equal Is Unfair: America's Misguided Fight Aga...</td>\n",
       "      <td>Â£56.86</td>\n",
       "      <td>star-rating One</td>\n",
       "    </tr>\n",
       "    <tr>\n",
       "      <th>514</th>\n",
       "      <td>Amid the Chaos</td>\n",
       "      <td>Â£36.58</td>\n",
       "      <td>star-rating One</td>\n",
       "    </tr>\n",
       "    <tr>\n",
       "      <th>515</th>\n",
       "      <td>Dark Notes</td>\n",
       "      <td>Â£19.19</td>\n",
       "      <td>star-rating Five</td>\n",
       "    </tr>\n",
       "    <tr>\n",
       "      <th>516</th>\n",
       "      <td>The Long Shadow of Small Ghosts: Murder and Me...</td>\n",
       "      <td>Â£10.97</td>\n",
       "      <td>star-rating One</td>\n",
       "    </tr>\n",
       "  </tbody>\n",
       "</table>\n",
       "<p>517 rows × 3 columns</p>\n",
       "</div>"
      ],
      "text/plain": [
       "                                                  Name    Price  \\\n",
       "0                              It's Only the Himalayas  Â£45.17   \n",
       "1    Full Moon over Noahâs Ark: An Odyssey to Mou...  Â£49.43   \n",
       "2    See America: A Celebration of Our National Par...  Â£48.87   \n",
       "3    Vagabonding: An Uncommon Guide to the Art of L...  Â£36.94   \n",
       "4                                 Under the Tuscan Sun  Â£37.33   \n",
       "..                                                 ...      ...   \n",
       "512  Why the Right Went Wrong: Conservatism--From G...  Â£52.65   \n",
       "513  Equal Is Unfair: America's Misguided Fight Aga...  Â£56.86   \n",
       "514                                     Amid the Chaos  Â£36.58   \n",
       "515                                         Dark Notes  Â£19.19   \n",
       "516  The Long Shadow of Small Ghosts: Murder and Me...  Â£10.97   \n",
       "\n",
       "                  Rate  \n",
       "0      star-rating Two  \n",
       "1     star-rating Four  \n",
       "2    star-rating Three  \n",
       "3      star-rating Two  \n",
       "4    star-rating Three  \n",
       "..                 ...  \n",
       "512   star-rating Four  \n",
       "513    star-rating One  \n",
       "514    star-rating One  \n",
       "515   star-rating Five  \n",
       "516    star-rating One  \n",
       "\n",
       "[517 rows x 3 columns]"
      ]
     },
     "execution_count": 47,
     "metadata": {},
     "output_type": "execute_result"
    }
   ],
   "source": [
    "df"
   ]
  },
  {
   "cell_type": "code",
   "execution_count": 49,
   "metadata": {},
   "outputs": [],
   "source": [
    "df.to_csv('Books by Categories.csv')"
   ]
  }
 ],
 "metadata": {
  "interpreter": {
   "hash": "6f5583cf1d9466b5c27e75c89cc6b383bed5736d6b16c51c8074d8690011a952"
  },
  "kernelspec": {
   "display_name": "Python 3.7.6 ('base')",
   "language": "python",
   "name": "python3"
  },
  "language_info": {
   "codemirror_mode": {
    "name": "ipython",
    "version": 3
   },
   "file_extension": ".py",
   "mimetype": "text/x-python",
   "name": "python",
   "nbconvert_exporter": "python",
   "pygments_lexer": "ipython3",
   "version": "3.7.6"
  },
  "orig_nbformat": 4
 },
 "nbformat": 4,
 "nbformat_minor": 2
}
