{
 "cells": [
  {
   "cell_type": "code",
   "execution_count": 1,
   "metadata": {},
   "outputs": [],
   "source": [
    "import pandas as pd\n",
    "import numpy as np\n",
    "import seaborn as sns\n",
    "import matplotlib.pyplot as plt\n",
    "%matplotlib inline"
   ]
  },
  {
   "cell_type": "code",
   "execution_count": 11,
   "metadata": {},
   "outputs": [],
   "source": [
    "import chardet\n",
    "with open('Enron_email_threads_updated.csv', 'rb') as f:\n",
    "    enc = chardet.detect(f.readline())\n",
    "email = pd.read_csv('Enron_email_threads_updated.csv', encoding= enc['encoding'], sep= '\\t')"
   ]
  },
  {
   "cell_type": "code",
   "execution_count": 12,
   "metadata": {},
   "outputs": [
    {
     "data": {
      "text/html": [
       "<div>\n",
       "<style scoped>\n",
       "    .dataframe tbody tr th:only-of-type {\n",
       "        vertical-align: middle;\n",
       "    }\n",
       "\n",
       "    .dataframe tbody tr th {\n",
       "        vertical-align: top;\n",
       "    }\n",
       "\n",
       "    .dataframe thead th {\n",
       "        text-align: right;\n",
       "    }\n",
       "</style>\n",
       "<table border=\"1\" class=\"dataframe\">\n",
       "  <thead>\n",
       "    <tr style=\"text-align: right;\">\n",
       "      <th></th>\n",
       "      <th>TID</th>\n",
       "      <th>MID</th>\n",
       "      <th>From</th>\n",
       "      <th>TO</th>\n",
       "      <th>Timestamp</th>\n",
       "      <th>Type</th>\n",
       "    </tr>\n",
       "  </thead>\n",
       "  <tbody>\n",
       "    <tr>\n",
       "      <th>0</th>\n",
       "      <td>155a74d0930df40c</td>\n",
       "      <td>e9c42ba707f5e84</td>\n",
       "      <td>mark.whitt@enron.com</td>\n",
       "      <td>heidi.dubose@enron.com</td>\n",
       "      <td>2001-10-25T07:02:55-07:00</td>\n",
       "      <td>TO</td>\n",
       "    </tr>\n",
       "    <tr>\n",
       "      <th>1</th>\n",
       "      <td>155a01503aaa94d2</td>\n",
       "      <td>ea7d7b79039db9c</td>\n",
       "      <td>barry.tycholiz@enron.com</td>\n",
       "      <td>jessica.presas@enron.com</td>\n",
       "      <td>2001-11-30T05:39:51-08:00</td>\n",
       "      <td>TO</td>\n",
       "    </tr>\n",
       "    <tr>\n",
       "      <th>2</th>\n",
       "      <td>155a0146556ac9cb</td>\n",
       "      <td>e9e418ca9b8987a</td>\n",
       "      <td>barry.tycholiz@enron.com</td>\n",
       "      <td>stephanie.miller@enron.com</td>\n",
       "      <td>2001-10-31T10:50:10-08:00</td>\n",
       "      <td>TO</td>\n",
       "    </tr>\n",
       "    <tr>\n",
       "      <th>3</th>\n",
       "      <td>1559a0a82828c7c9</td>\n",
       "      <td>ea57a25b4ab0621</td>\n",
       "      <td>enron_update@concureworkplace.com</td>\n",
       "      <td>s..shively@enron.com</td>\n",
       "      <td>2001-11-22T21:16:45-08:00</td>\n",
       "      <td>TO</td>\n",
       "    </tr>\n",
       "    <tr>\n",
       "      <th>4</th>\n",
       "      <td>1559a0a82828c7c9</td>\n",
       "      <td>ea57a247904c8e9</td>\n",
       "      <td>enron_update@concureworkplace.com</td>\n",
       "      <td>jsteffe@enron.com</td>\n",
       "      <td>2001-11-22T21:16:40-08:00</td>\n",
       "      <td>TO</td>\n",
       "    </tr>\n",
       "  </tbody>\n",
       "</table>\n",
       "</div>"
      ],
      "text/plain": [
       "                TID              MID                               From  \\\n",
       "0  155a74d0930df40c  e9c42ba707f5e84               mark.whitt@enron.com   \n",
       "1  155a01503aaa94d2  ea7d7b79039db9c           barry.tycholiz@enron.com   \n",
       "2  155a0146556ac9cb  e9e418ca9b8987a           barry.tycholiz@enron.com   \n",
       "3  1559a0a82828c7c9  ea57a25b4ab0621  enron_update@concureworkplace.com   \n",
       "4  1559a0a82828c7c9  ea57a247904c8e9  enron_update@concureworkplace.com   \n",
       "\n",
       "                           TO                  Timestamp Type  \n",
       "0      heidi.dubose@enron.com  2001-10-25T07:02:55-07:00   TO  \n",
       "1    jessica.presas@enron.com  2001-11-30T05:39:51-08:00   TO  \n",
       "2  stephanie.miller@enron.com  2001-10-31T10:50:10-08:00   TO  \n",
       "3        s..shively@enron.com  2001-11-22T21:16:45-08:00   TO  \n",
       "4           jsteffe@enron.com  2001-11-22T21:16:40-08:00   TO  "
      ]
     },
     "execution_count": 12,
     "metadata": {},
     "output_type": "execute_result"
    }
   ],
   "source": [
    "email.head()"
   ]
  },
  {
   "cell_type": "code",
   "execution_count": 13,
   "metadata": {},
   "outputs": [
    {
     "name": "stdout",
     "output_type": "stream",
     "text": [
      "<class 'pandas.core.frame.DataFrame'>\n",
      "RangeIndex: 471874 entries, 0 to 471873\n",
      "Data columns (total 6 columns):\n",
      " #   Column     Non-Null Count   Dtype \n",
      "---  ------     --------------   ----- \n",
      " 0   TID        471874 non-null  object\n",
      " 1   MID        471874 non-null  object\n",
      " 2   From       471874 non-null  object\n",
      " 3   TO         471872 non-null  object\n",
      " 4   Timestamp  471874 non-null  object\n",
      " 5   Type       471874 non-null  object\n",
      "dtypes: object(6)\n",
      "memory usage: 21.6+ MB\n"
     ]
    }
   ],
   "source": [
    "email.info()"
   ]
  },
  {
   "cell_type": "code",
   "execution_count": 32,
   "metadata": {},
   "outputs": [],
   "source": [
    "def domain_extract(x):\n",
    "\n",
    "    try:\n",
    "\n",
    "        return x.split('@')[1]\n",
    "\n",
    "    except:\n",
    "\n",
    "        return np.nan"
   ]
  },
  {
   "cell_type": "code",
   "execution_count": 33,
   "metadata": {},
   "outputs": [],
   "source": [
    "email['Domain_sending'] = email['From'].apply(domain_extract)"
   ]
  },
  {
   "cell_type": "code",
   "execution_count": 34,
   "metadata": {},
   "outputs": [],
   "source": [
    "email['Domain_Receiving'] = email['TO'].apply(domain_extract)"
   ]
  },
  {
   "cell_type": "code",
   "execution_count": 35,
   "metadata": {},
   "outputs": [
    {
     "data": {
      "text/html": [
       "<div>\n",
       "<style scoped>\n",
       "    .dataframe tbody tr th:only-of-type {\n",
       "        vertical-align: middle;\n",
       "    }\n",
       "\n",
       "    .dataframe tbody tr th {\n",
       "        vertical-align: top;\n",
       "    }\n",
       "\n",
       "    .dataframe thead th {\n",
       "        text-align: right;\n",
       "    }\n",
       "</style>\n",
       "<table border=\"1\" class=\"dataframe\">\n",
       "  <thead>\n",
       "    <tr style=\"text-align: right;\">\n",
       "      <th></th>\n",
       "      <th>TID</th>\n",
       "      <th>MID</th>\n",
       "      <th>From</th>\n",
       "      <th>TO</th>\n",
       "      <th>Timestamp</th>\n",
       "      <th>Type</th>\n",
       "      <th>Domain_sending</th>\n",
       "      <th>Domain_Receiving</th>\n",
       "    </tr>\n",
       "  </thead>\n",
       "  <tbody>\n",
       "    <tr>\n",
       "      <th>0</th>\n",
       "      <td>155a74d0930df40c</td>\n",
       "      <td>e9c42ba707f5e84</td>\n",
       "      <td>mark.whitt@enron.com</td>\n",
       "      <td>heidi.dubose@enron.com</td>\n",
       "      <td>2001-10-25T07:02:55-07:00</td>\n",
       "      <td>TO</td>\n",
       "      <td>enron.com</td>\n",
       "      <td>enron.com</td>\n",
       "    </tr>\n",
       "    <tr>\n",
       "      <th>1</th>\n",
       "      <td>155a01503aaa94d2</td>\n",
       "      <td>ea7d7b79039db9c</td>\n",
       "      <td>barry.tycholiz@enron.com</td>\n",
       "      <td>jessica.presas@enron.com</td>\n",
       "      <td>2001-11-30T05:39:51-08:00</td>\n",
       "      <td>TO</td>\n",
       "      <td>enron.com</td>\n",
       "      <td>enron.com</td>\n",
       "    </tr>\n",
       "    <tr>\n",
       "      <th>2</th>\n",
       "      <td>155a0146556ac9cb</td>\n",
       "      <td>e9e418ca9b8987a</td>\n",
       "      <td>barry.tycholiz@enron.com</td>\n",
       "      <td>stephanie.miller@enron.com</td>\n",
       "      <td>2001-10-31T10:50:10-08:00</td>\n",
       "      <td>TO</td>\n",
       "      <td>enron.com</td>\n",
       "      <td>enron.com</td>\n",
       "    </tr>\n",
       "    <tr>\n",
       "      <th>3</th>\n",
       "      <td>1559a0a82828c7c9</td>\n",
       "      <td>ea57a25b4ab0621</td>\n",
       "      <td>enron_update@concureworkplace.com</td>\n",
       "      <td>s..shively@enron.com</td>\n",
       "      <td>2001-11-22T21:16:45-08:00</td>\n",
       "      <td>TO</td>\n",
       "      <td>concureworkplace.com</td>\n",
       "      <td>enron.com</td>\n",
       "    </tr>\n",
       "    <tr>\n",
       "      <th>4</th>\n",
       "      <td>1559a0a82828c7c9</td>\n",
       "      <td>ea57a247904c8e9</td>\n",
       "      <td>enron_update@concureworkplace.com</td>\n",
       "      <td>jsteffe@enron.com</td>\n",
       "      <td>2001-11-22T21:16:40-08:00</td>\n",
       "      <td>TO</td>\n",
       "      <td>concureworkplace.com</td>\n",
       "      <td>enron.com</td>\n",
       "    </tr>\n",
       "  </tbody>\n",
       "</table>\n",
       "</div>"
      ],
      "text/plain": [
       "                TID              MID                               From  \\\n",
       "0  155a74d0930df40c  e9c42ba707f5e84               mark.whitt@enron.com   \n",
       "1  155a01503aaa94d2  ea7d7b79039db9c           barry.tycholiz@enron.com   \n",
       "2  155a0146556ac9cb  e9e418ca9b8987a           barry.tycholiz@enron.com   \n",
       "3  1559a0a82828c7c9  ea57a25b4ab0621  enron_update@concureworkplace.com   \n",
       "4  1559a0a82828c7c9  ea57a247904c8e9  enron_update@concureworkplace.com   \n",
       "\n",
       "                           TO                  Timestamp Type  \\\n",
       "0      heidi.dubose@enron.com  2001-10-25T07:02:55-07:00   TO   \n",
       "1    jessica.presas@enron.com  2001-11-30T05:39:51-08:00   TO   \n",
       "2  stephanie.miller@enron.com  2001-10-31T10:50:10-08:00   TO   \n",
       "3        s..shively@enron.com  2001-11-22T21:16:45-08:00   TO   \n",
       "4           jsteffe@enron.com  2001-11-22T21:16:40-08:00   TO   \n",
       "\n",
       "         Domain_sending Domain_Receiving  \n",
       "0             enron.com        enron.com  \n",
       "1             enron.com        enron.com  \n",
       "2             enron.com        enron.com  \n",
       "3  concureworkplace.com        enron.com  \n",
       "4  concureworkplace.com        enron.com  "
      ]
     },
     "execution_count": 35,
     "metadata": {},
     "output_type": "execute_result"
    }
   ],
   "source": [
    "email.head()"
   ]
  },
  {
   "cell_type": "code",
   "execution_count": 36,
   "metadata": {},
   "outputs": [
    {
     "name": "stdout",
     "output_type": "stream",
     "text": [
      "<class 'pandas.core.frame.DataFrame'>\n",
      "RangeIndex: 471874 entries, 0 to 471873\n",
      "Data columns (total 8 columns):\n",
      " #   Column            Non-Null Count   Dtype \n",
      "---  ------            --------------   ----- \n",
      " 0   TID               471874 non-null  object\n",
      " 1   MID               471874 non-null  object\n",
      " 2   From              471874 non-null  object\n",
      " 3   TO                471872 non-null  object\n",
      " 4   Timestamp         471874 non-null  object\n",
      " 5   Type              471874 non-null  object\n",
      " 6   Domain_sending    471874 non-null  object\n",
      " 7   Domain_Receiving  471871 non-null  object\n",
      "dtypes: object(8)\n",
      "memory usage: 28.8+ MB\n"
     ]
    }
   ],
   "source": [
    "email.info()"
   ]
  },
  {
   "cell_type": "code",
   "execution_count": 37,
   "metadata": {},
   "outputs": [
    {
     "data": {
      "text/plain": [
       "enron.com              414551\n",
       "aol.com                  2127\n",
       "hotmail.com              2002\n",
       "earthlink.net            1982\n",
       "elpaso.com               1862\n",
       "                        ...  \n",
       "mit.edu                     1\n",
       "urmgroup.com                1\n",
       "bloomberg.net               1\n",
       "emailfactory.net            1\n",
       "news.deandeluca.com         1\n",
       "Name: Domain_sending, Length: 2123, dtype: int64"
      ]
     },
     "execution_count": 37,
     "metadata": {},
     "output_type": "execute_result"
    }
   ],
   "source": [
    "email['Domain_sending'].value_counts()"
   ]
  },
  {
   "cell_type": "code",
   "execution_count": 39,
   "metadata": {},
   "outputs": [
    {
     "data": {
      "text/plain": [
       "enron.com                442340\n",
       "aol.com                    1485\n",
       "hotmail.com                 995\n",
       "enron.com>                  933\n",
       "ect.enron.com               896\n",
       "                          ...  \n",
       "utarget.sparklist.com         1\n",
       "byko.enron.com                1\n",
       "houston.rr                    1\n",
       "stern.nyu.edu                 1\n",
       "amerch.com                    1\n",
       "Name: Domain_Receiving, Length: 2867, dtype: int64"
      ]
     },
     "execution_count": 39,
     "metadata": {},
     "output_type": "execute_result"
    }
   ],
   "source": [
    "email['Domain_Receiving'].value_counts()"
   ]
  },
  {
   "cell_type": "markdown",
   "metadata": {},
   "source": [
    "enron.com is the most used domain for sending and receiving emails"
   ]
  }
 ],
 "metadata": {
  "kernelspec": {
   "display_name": "Python 3.9.12 ('base')",
   "language": "python",
   "name": "python3"
  },
  "language_info": {
   "codemirror_mode": {
    "name": "ipython",
    "version": 3
   },
   "file_extension": ".py",
   "mimetype": "text/x-python",
   "name": "python",
   "nbconvert_exporter": "python",
   "pygments_lexer": "ipython3",
   "version": "3.9.12"
  },
  "orig_nbformat": 4,
  "vscode": {
   "interpreter": {
    "hash": "a71a9e4fb054fff428071484f7faa898cb9ecb31a518fe88e3463da9af879578"
   }
  }
 },
 "nbformat": 4,
 "nbformat_minor": 2
}
