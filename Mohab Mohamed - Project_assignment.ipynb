{
 "cells": [
  {
   "cell_type": "markdown",
   "metadata": {},
   "source": [
    "# Project 1:\n",
    "    - using thanos backup images, put them inside universe directory\n",
    "    - loop through the files inside the directory\n",
    "        - for each file in the directory\n",
    "            - generate a random name from the english letters - google list of english letters in python -\n",
    "            - rename the images inside the  `universe` directory to the generated one "
   ]
  },
  {
   "cell_type": "code",
   "execution_count": 5,
   "metadata": {},
   "outputs": [],
   "source": [
    "import os\n",
    "import random as rd\n",
    "import string"
   ]
  },
  {
   "cell_type": "code",
   "execution_count": 6,
   "metadata": {},
   "outputs": [],
   "source": [
    "os.mkdir('universe')\n",
    "\n",
    "for old_name in os.listdir('backup'):\n",
    "\n",
    "        random_list = [rd.choice(list(string.ascii_lowercase)) for i in range(5)]\n",
    "\n",
    "        new_name = ''.join(random_list)\n",
    "\n",
    "        os.rename(f'backup/{old_name}', f'universe/{new_name}.png')"
   ]
  }
 ],
 "metadata": {
  "interpreter": {
   "hash": "ed225720166559e7176d3793db16a2fd8d295f725007103b21ac3099d2a89ee8"
  },
  "kernelspec": {
   "display_name": "Python 3.7.6 ('base')",
   "language": "python",
   "name": "python3"
  },
  "language_info": {
   "codemirror_mode": {
    "name": "ipython",
    "version": 3
   },
   "file_extension": ".py",
   "mimetype": "text/x-python",
   "name": "python",
   "nbconvert_exporter": "python",
   "pygments_lexer": "ipython3",
   "version": "3.7.6"
  },
  "orig_nbformat": 4
 },
 "nbformat": 4,
 "nbformat_minor": 2
}
