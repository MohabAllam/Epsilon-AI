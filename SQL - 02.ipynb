{
 "cells": [
  {
   "cell_type": "code",
   "execution_count": 1,
   "metadata": {},
   "outputs": [],
   "source": [
    "import pandas as pd\n",
    "import sqlite3"
   ]
  },
  {
   "cell_type": "code",
   "execution_count": 21,
   "metadata": {},
   "outputs": [],
   "source": [
    "connection = sqlite3.connect('books.db')"
   ]
  },
  {
   "cell_type": "code",
   "execution_count": null,
   "metadata": {},
   "outputs": [],
   "source": [
    "pd.read_sql('SELECT Name from books WHERE (Rate != \"star-rating One\" AND Rate != \"star-rating Two\") AND (Name LIKE \"%Mr%\")', connection)"
   ]
  },
  {
   "cell_type": "code",
   "execution_count": null,
   "metadata": {},
   "outputs": [],
   "source": [
    "pd.read_sql('SELECT Name from books WHERE (Rate != \"star-rating One\" AND Rate != \"star-rating Two\") OR (Price > 20)', connection)"
   ]
  },
  {
   "cell_type": "code",
   "execution_count": null,
   "metadata": {},
   "outputs": [],
   "source": [
    "pd.read_sql('SELECT Name from books WHERE Rate != \"star-rating Three\"', connection)"
   ]
  },
  {
   "cell_type": "code",
   "execution_count": null,
   "metadata": {},
   "outputs": [],
   "source": [
    "pd.read_sql('SELECT Name from books WHERE (Price BETWEEN 10 AND 40) AND (Rate = \"star-rating Three\" OR Rate = \"star-rating Four\" OR Rate = \"star-rating One\")', connection)"
   ]
  },
  {
   "cell_type": "code",
   "execution_count": null,
   "metadata": {},
   "outputs": [],
   "source": [
    "pd.read_sql('SELECT Name from books ORDER BY Price DESC LIMIT 5', connection)"
   ]
  },
  {
   "cell_type": "code",
   "execution_count": null,
   "metadata": {},
   "outputs": [],
   "source": [
    "pd.read_sql('SELECT Name from books ORDER BY Rate Desc, Price ASC LIMIT 20, 10 ', connection)"
   ]
  },
  {
   "cell_type": "code",
   "execution_count": 5,
   "metadata": {},
   "outputs": [],
   "source": [
    "connection.execute('INSERT INTO categories (categories_id, category) VALUES(?, ?)', [51, 'Data Science'])\n",
    "\n",
    "name_list = ['Head First Statistics', 'Practical Statistics for Data Scientists', 'Introduction to Probability', 'Python Machine Learning By Example', 'Python for data analysis']\n",
    "\n",
    "price_list = [10, 20, 30, 40, 50]\n",
    "\n",
    "rate_list = ['star-rating One', 'star-rating Two', 'star-rating Three', 'star-rating Four', 'star-rating Five']\n",
    "\n",
    "books_id = [51, 51, 51, 51, 51]\n",
    "\n",
    "for i in range(5):\n",
    "\n",
    "    connection.execute('INSERT INTO books (books_id, Name, Price, Rate) VALUES (?, ?, ?, ?)', [books_id[i], name_list[i], price_list[i], rate_list[i]])"
   ]
  },
  {
   "cell_type": "code",
   "execution_count": null,
   "metadata": {},
   "outputs": [],
   "source": [
    "connection.execute('UPDATE books  SET Rate = \"star-rating Three\" WHERE Price < 20')"
   ]
  },
  {
   "cell_type": "code",
   "execution_count": null,
   "metadata": {},
   "outputs": [],
   "source": [
    "connection.execute('DELETE FROM books WHERE Price > 50 AND (Rate <= \"star-rating Two\")')"
   ]
  },
  {
   "cell_type": "code",
   "execution_count": null,
   "metadata": {},
   "outputs": [],
   "source": [
    "pd.read_sql('SELECT COUNT(books_id) from books WHERE Name LIKE \"%Secret%\" AND (Price BETWEEN 10  AND 25)', connection)"
   ]
  },
  {
   "cell_type": "code",
   "execution_count": null,
   "metadata": {},
   "outputs": [],
   "source": [
    "pd.read_sql('SELECT MAX(Price) FROM books WHERE Rate = \"star-rating Five\"', connection)"
   ]
  },
  {
   "cell_type": "code",
   "execution_count": null,
   "metadata": {},
   "outputs": [],
   "source": [
    "pd.read_sql('SELECT MIN(Price) FROM books WHERE Rate = \"star-rating Five\"', connection)"
   ]
  },
  {
   "cell_type": "code",
   "execution_count": null,
   "metadata": {},
   "outputs": [],
   "source": [
    "pd.read_sql('SELECT AVG(Price) FROM books WHERE Rate = \"star-rating Five\"', connection)"
   ]
  },
  {
   "cell_type": "code",
   "execution_count": null,
   "metadata": {},
   "outputs": [],
   "source": [
    "pd.read_sql('SELECT SUM(Price) FROM books WHERE Rate = \"star-rating Two\" AND (Price BETWEEN 10 AND 40)', connection)"
   ]
  },
  {
   "cell_type": "code",
   "execution_count": null,
   "metadata": {},
   "outputs": [],
   "source": [
    "pd.read_sql('SELECT books.Name AS book_name, categories.category AS category_name, books.Rate AS book_rate, books.Price AS book_price\\\n",
    "            FROM books INNER JOIN categories\\\n",
    "            ON books.books_id = categories.categories_id', connection)"
   ]
  },
  {
   "cell_type": "code",
   "execution_count": null,
   "metadata": {},
   "outputs": [],
   "source": [
    "pd.read_sql('SELECT COUNT(books_id) AS books_count, Rate\\\n",
    "            FROM books WHERE Price BETWEEN 20 AND 30\\\n",
    "            GROUP BY Rate\\\n",
    "            ORDER BY books_count DESC', connection)"
   ]
  },
  {
   "cell_type": "code",
   "execution_count": null,
   "metadata": {},
   "outputs": [],
   "source": [
    "pd.read_sql('SELECT count(books.books_id) AS books_count, categories.category AS category_name\\\n",
    "                FROM books INNER JOIN categories\\\n",
    "                ON books.books_id = categories.categories_id\\\n",
    "                GROUP BY category_name\\\n",
    "                HAVING books_count > 10', connection)"
   ]
  },
  {
   "cell_type": "code",
   "execution_count": null,
   "metadata": {},
   "outputs": [],
   "source": [
    "pd.read_sql('SELECT Name from books\\\n",
    "            WHERE books_id =\\\n",
    "            (SELECT categories_id from categories WHERE category = \"Music\")', connection)"
   ]
  },
  {
   "cell_type": "code",
   "execution_count": 16,
   "metadata": {},
   "outputs": [],
   "source": [
    "connection.commit()"
   ]
  },
  {
   "cell_type": "code",
   "execution_count": 19,
   "metadata": {},
   "outputs": [],
   "source": [
    "connection.close()"
   ]
  }
 ],
 "metadata": {
  "interpreter": {
   "hash": "6f5583cf1d9466b5c27e75c89cc6b383bed5736d6b16c51c8074d8690011a952"
  },
  "kernelspec": {
   "display_name": "Python 3.7.6 ('base')",
   "language": "python",
   "name": "python3"
  },
  "language_info": {
   "codemirror_mode": {
    "name": "ipython",
    "version": 3
   },
   "file_extension": ".py",
   "mimetype": "text/x-python",
   "name": "python",
   "nbconvert_exporter": "python",
   "pygments_lexer": "ipython3",
   "version": "3.7.6"
  },
  "orig_nbformat": 4
 },
 "nbformat": 4,
 "nbformat_minor": 2
}
