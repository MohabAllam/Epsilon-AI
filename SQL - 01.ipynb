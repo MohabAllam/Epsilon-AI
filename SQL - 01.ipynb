{
 "cells": [
  {
   "cell_type": "code",
   "execution_count": 1,
   "metadata": {},
   "outputs": [],
   "source": [
    "import requests\n",
    "from bs4 import BeautifulSoup\n",
    "import pandas as pd\n",
    "import sqlite3"
   ]
  },
  {
   "cell_type": "code",
   "execution_count": 2,
   "metadata": {},
   "outputs": [],
   "source": [
    "request = requests.get('https://books.toscrape.com/')"
   ]
  },
  {
   "cell_type": "code",
   "execution_count": 3,
   "metadata": {},
   "outputs": [],
   "source": [
    "s = BeautifulSoup(request.text, 'html.parser')"
   ]
  },
  {
   "cell_type": "code",
   "execution_count": 4,
   "metadata": {},
   "outputs": [],
   "source": [
    "connection = sqlite3.connect('books.db')"
   ]
  },
  {
   "cell_type": "code",
   "execution_count": 5,
   "metadata": {},
   "outputs": [],
   "source": [
    "i1 = 0\n",
    "\n",
    "url = 'https://books.toscrape.com/'\n",
    "\n",
    "for cats in s.find_all('a')[3:53]:\n",
    "    \n",
    "    cat_url = url + cats.get('href')\n",
    "\n",
    "    cat = cats.get_text().strip()\n",
    "\n",
    "    r = requests.get(f'{cat_url}')\n",
    "\n",
    "    soup = BeautifulSoup(r.text, 'html.parser')\n",
    "\n",
    "\n",
    "    i1 += 1\n",
    "\n",
    "    d1 = [i1, cat]\n",
    "\n",
    "    connection.execute('insert into categories(categories_id, category) values(?, ?)',\n",
    "\n",
    "                d1 )\n",
    "\n",
    "    for i in range(len(soup.find_all('h3'))):\n",
    "\n",
    "        name = soup.find_all('h3')[i].find('a').get('title')\n",
    "\n",
    "        price = float(soup.find_all('p', class_= \"price_color\")[i].get_text().split('£')[1])\n",
    "\n",
    "        rate = str(soup.find_all('p', class_= \"star-rating\")[i]).split('\"')[1]\n",
    "\n",
    "        i2 = i1\n",
    "\n",
    "        d2 = [i2, name, price, rate]\n",
    "\n",
    "        connection.execute('insert into books(books_id, Name, Price, Rate) values(?, ?, ?, ?)',\n",
    "\n",
    "                        d2 )"
   ]
  },
  {
   "cell_type": "code",
   "execution_count": 6,
   "metadata": {},
   "outputs": [],
   "source": [
    "connection.commit()"
   ]
  }
 ],
 "metadata": {
  "interpreter": {
   "hash": "6f5583cf1d9466b5c27e75c89cc6b383bed5736d6b16c51c8074d8690011a952"
  },
  "kernelspec": {
   "display_name": "Python 3.7.6 ('base')",
   "language": "python",
   "name": "python3"
  },
  "language_info": {
   "codemirror_mode": {
    "name": "ipython",
    "version": 3
   },
   "file_extension": ".py",
   "mimetype": "text/x-python",
   "name": "python",
   "nbconvert_exporter": "python",
   "pygments_lexer": "ipython3",
   "version": "3.7.6"
  },
  "orig_nbformat": 4
 },
 "nbformat": 4,
 "nbformat_minor": 2
}
