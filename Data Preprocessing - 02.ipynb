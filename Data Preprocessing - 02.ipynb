{
  "cells": [
    {
      "cell_type": "code",
      "execution_count": null,
      "metadata": {
        "id": "YW23_rej7yt-"
      },
      "outputs": [],
      "source": [
        "import numpy as np\n",
        "import pandas as pd\n",
        "import seaborn as sns\n",
        "import matplotlib.pyplot as plt\n",
        "%matplotlib inline"
      ]
    },
    {
      "cell_type": "code",
      "execution_count": null,
      "metadata": {
        "id": "ZYX6E0iU7yuE",
        "outputId": "df9a46a6-0488-471b-8c7d-b062f5de25a7"
      },
      "outputs": [
        {
          "data": {
            "text/html": [
              "<div>\n",
              "<style scoped>\n",
              "    .dataframe tbody tr th:only-of-type {\n",
              "        vertical-align: middle;\n",
              "    }\n",
              "\n",
              "    .dataframe tbody tr th {\n",
              "        vertical-align: top;\n",
              "    }\n",
              "\n",
              "    .dataframe thead th {\n",
              "        text-align: right;\n",
              "    }\n",
              "</style>\n",
              "<table border=\"1\" class=\"dataframe\">\n",
              "  <thead>\n",
              "    <tr style=\"text-align: right;\">\n",
              "      <th></th>\n",
              "      <th>id</th>\n",
              "      <th>gender</th>\n",
              "      <th>age</th>\n",
              "      <th>hypertension</th>\n",
              "      <th>heart_disease</th>\n",
              "      <th>ever_married</th>\n",
              "      <th>work_type</th>\n",
              "      <th>Residence_type</th>\n",
              "      <th>avg_glucose_level</th>\n",
              "      <th>bmi</th>\n",
              "      <th>smoking_status</th>\n",
              "      <th>stroke</th>\n",
              "    </tr>\n",
              "  </thead>\n",
              "  <tbody>\n",
              "    <tr>\n",
              "      <th>0</th>\n",
              "      <td>9046</td>\n",
              "      <td>Male</td>\n",
              "      <td>67.0</td>\n",
              "      <td>0</td>\n",
              "      <td>1</td>\n",
              "      <td>Yes</td>\n",
              "      <td>Private</td>\n",
              "      <td>Urban</td>\n",
              "      <td>228.69</td>\n",
              "      <td>36.6</td>\n",
              "      <td>formerly smoked</td>\n",
              "      <td>1</td>\n",
              "    </tr>\n",
              "    <tr>\n",
              "      <th>1</th>\n",
              "      <td>51676</td>\n",
              "      <td>Female</td>\n",
              "      <td>61.0</td>\n",
              "      <td>0</td>\n",
              "      <td>0</td>\n",
              "      <td>Yes</td>\n",
              "      <td>Self-employed</td>\n",
              "      <td>Rural</td>\n",
              "      <td>202.21</td>\n",
              "      <td>NaN</td>\n",
              "      <td>never smoked</td>\n",
              "      <td>1</td>\n",
              "    </tr>\n",
              "    <tr>\n",
              "      <th>2</th>\n",
              "      <td>31112</td>\n",
              "      <td>Male</td>\n",
              "      <td>80.0</td>\n",
              "      <td>0</td>\n",
              "      <td>1</td>\n",
              "      <td>Yes</td>\n",
              "      <td>Private</td>\n",
              "      <td>Rural</td>\n",
              "      <td>105.92</td>\n",
              "      <td>32.5</td>\n",
              "      <td>never smoked</td>\n",
              "      <td>1</td>\n",
              "    </tr>\n",
              "    <tr>\n",
              "      <th>3</th>\n",
              "      <td>60182</td>\n",
              "      <td>Female</td>\n",
              "      <td>49.0</td>\n",
              "      <td>0</td>\n",
              "      <td>0</td>\n",
              "      <td>Yes</td>\n",
              "      <td>Private</td>\n",
              "      <td>Urban</td>\n",
              "      <td>171.23</td>\n",
              "      <td>34.4</td>\n",
              "      <td>smokes</td>\n",
              "      <td>1</td>\n",
              "    </tr>\n",
              "    <tr>\n",
              "      <th>4</th>\n",
              "      <td>1665</td>\n",
              "      <td>Female</td>\n",
              "      <td>79.0</td>\n",
              "      <td>1</td>\n",
              "      <td>0</td>\n",
              "      <td>Yes</td>\n",
              "      <td>Self-employed</td>\n",
              "      <td>Rural</td>\n",
              "      <td>174.12</td>\n",
              "      <td>24.0</td>\n",
              "      <td>never smoked</td>\n",
              "      <td>1</td>\n",
              "    </tr>\n",
              "  </tbody>\n",
              "</table>\n",
              "</div>"
            ],
            "text/plain": [
              "      id  gender   age  hypertension  heart_disease ever_married  \\\n",
              "0   9046    Male  67.0             0              1          Yes   \n",
              "1  51676  Female  61.0             0              0          Yes   \n",
              "2  31112    Male  80.0             0              1          Yes   \n",
              "3  60182  Female  49.0             0              0          Yes   \n",
              "4   1665  Female  79.0             1              0          Yes   \n",
              "\n",
              "       work_type Residence_type  avg_glucose_level   bmi   smoking_status  \\\n",
              "0        Private          Urban             228.69  36.6  formerly smoked   \n",
              "1  Self-employed          Rural             202.21   NaN     never smoked   \n",
              "2        Private          Rural             105.92  32.5     never smoked   \n",
              "3        Private          Urban             171.23  34.4           smokes   \n",
              "4  Self-employed          Rural             174.12  24.0     never smoked   \n",
              "\n",
              "   stroke  \n",
              "0       1  \n",
              "1       1  \n",
              "2       1  \n",
              "3       1  \n",
              "4       1  "
            ]
          },
          "execution_count": 2,
          "metadata": {},
          "output_type": "execute_result"
        }
      ],
      "source": [
        "df = pd.read_csv('healthcare-dataset-stroke-data.csv')\n",
        "df.head()"
      ]
    },
    {
      "cell_type": "code",
      "execution_count": null,
      "metadata": {
        "id": "0Xx5LBAt7yuG",
        "outputId": "9aa6b542-a929-4c8a-952e-4f2a5bd952a2"
      },
      "outputs": [
        {
          "name": "stdout",
          "output_type": "stream",
          "text": [
            "<class 'pandas.core.frame.DataFrame'>\n",
            "RangeIndex: 5110 entries, 0 to 5109\n",
            "Data columns (total 12 columns):\n",
            " #   Column             Non-Null Count  Dtype  \n",
            "---  ------             --------------  -----  \n",
            " 0   id                 5110 non-null   int64  \n",
            " 1   gender             5110 non-null   object \n",
            " 2   age                5110 non-null   float64\n",
            " 3   hypertension       5110 non-null   int64  \n",
            " 4   heart_disease      5110 non-null   int64  \n",
            " 5   ever_married       5110 non-null   object \n",
            " 6   work_type          5110 non-null   object \n",
            " 7   Residence_type     5110 non-null   object \n",
            " 8   avg_glucose_level  5110 non-null   float64\n",
            " 9   bmi                4909 non-null   float64\n",
            " 10  smoking_status     5110 non-null   object \n",
            " 11  stroke             5110 non-null   int64  \n",
            "dtypes: float64(3), int64(4), object(5)\n",
            "memory usage: 479.2+ KB\n"
          ]
        }
      ],
      "source": [
        "df.info()"
      ]
    },
    {
      "cell_type": "code",
      "execution_count": null,
      "metadata": {
        "id": "K22bPCUQ7yuH",
        "outputId": "939a0bf3-6460-47f0-9f40-1f7851fbeea6"
      },
      "outputs": [
        {
          "data": {
            "text/html": [
              "<div>\n",
              "<style scoped>\n",
              "    .dataframe tbody tr th:only-of-type {\n",
              "        vertical-align: middle;\n",
              "    }\n",
              "\n",
              "    .dataframe tbody tr th {\n",
              "        vertical-align: top;\n",
              "    }\n",
              "\n",
              "    .dataframe thead th {\n",
              "        text-align: right;\n",
              "    }\n",
              "</style>\n",
              "<table border=\"1\" class=\"dataframe\">\n",
              "  <thead>\n",
              "    <tr style=\"text-align: right;\">\n",
              "      <th></th>\n",
              "      <th>id</th>\n",
              "      <th>age</th>\n",
              "      <th>hypertension</th>\n",
              "      <th>heart_disease</th>\n",
              "      <th>avg_glucose_level</th>\n",
              "      <th>bmi</th>\n",
              "      <th>stroke</th>\n",
              "    </tr>\n",
              "  </thead>\n",
              "  <tbody>\n",
              "    <tr>\n",
              "      <th>count</th>\n",
              "      <td>5110.000000</td>\n",
              "      <td>5110.000000</td>\n",
              "      <td>5110.000000</td>\n",
              "      <td>5110.000000</td>\n",
              "      <td>5110.000000</td>\n",
              "      <td>4909.000000</td>\n",
              "      <td>5110.000000</td>\n",
              "    </tr>\n",
              "    <tr>\n",
              "      <th>mean</th>\n",
              "      <td>36517.829354</td>\n",
              "      <td>43.226614</td>\n",
              "      <td>0.097456</td>\n",
              "      <td>0.054012</td>\n",
              "      <td>106.147677</td>\n",
              "      <td>28.893237</td>\n",
              "      <td>0.048728</td>\n",
              "    </tr>\n",
              "    <tr>\n",
              "      <th>std</th>\n",
              "      <td>21161.721625</td>\n",
              "      <td>22.612647</td>\n",
              "      <td>0.296607</td>\n",
              "      <td>0.226063</td>\n",
              "      <td>45.283560</td>\n",
              "      <td>7.854067</td>\n",
              "      <td>0.215320</td>\n",
              "    </tr>\n",
              "    <tr>\n",
              "      <th>min</th>\n",
              "      <td>67.000000</td>\n",
              "      <td>0.080000</td>\n",
              "      <td>0.000000</td>\n",
              "      <td>0.000000</td>\n",
              "      <td>55.120000</td>\n",
              "      <td>10.300000</td>\n",
              "      <td>0.000000</td>\n",
              "    </tr>\n",
              "    <tr>\n",
              "      <th>25%</th>\n",
              "      <td>17741.250000</td>\n",
              "      <td>25.000000</td>\n",
              "      <td>0.000000</td>\n",
              "      <td>0.000000</td>\n",
              "      <td>77.245000</td>\n",
              "      <td>23.500000</td>\n",
              "      <td>0.000000</td>\n",
              "    </tr>\n",
              "    <tr>\n",
              "      <th>50%</th>\n",
              "      <td>36932.000000</td>\n",
              "      <td>45.000000</td>\n",
              "      <td>0.000000</td>\n",
              "      <td>0.000000</td>\n",
              "      <td>91.885000</td>\n",
              "      <td>28.100000</td>\n",
              "      <td>0.000000</td>\n",
              "    </tr>\n",
              "    <tr>\n",
              "      <th>75%</th>\n",
              "      <td>54682.000000</td>\n",
              "      <td>61.000000</td>\n",
              "      <td>0.000000</td>\n",
              "      <td>0.000000</td>\n",
              "      <td>114.090000</td>\n",
              "      <td>33.100000</td>\n",
              "      <td>0.000000</td>\n",
              "    </tr>\n",
              "    <tr>\n",
              "      <th>max</th>\n",
              "      <td>72940.000000</td>\n",
              "      <td>82.000000</td>\n",
              "      <td>1.000000</td>\n",
              "      <td>1.000000</td>\n",
              "      <td>271.740000</td>\n",
              "      <td>97.600000</td>\n",
              "      <td>1.000000</td>\n",
              "    </tr>\n",
              "  </tbody>\n",
              "</table>\n",
              "</div>"
            ],
            "text/plain": [
              "                 id          age  hypertension  heart_disease  \\\n",
              "count   5110.000000  5110.000000   5110.000000    5110.000000   \n",
              "mean   36517.829354    43.226614      0.097456       0.054012   \n",
              "std    21161.721625    22.612647      0.296607       0.226063   \n",
              "min       67.000000     0.080000      0.000000       0.000000   \n",
              "25%    17741.250000    25.000000      0.000000       0.000000   \n",
              "50%    36932.000000    45.000000      0.000000       0.000000   \n",
              "75%    54682.000000    61.000000      0.000000       0.000000   \n",
              "max    72940.000000    82.000000      1.000000       1.000000   \n",
              "\n",
              "       avg_glucose_level          bmi       stroke  \n",
              "count        5110.000000  4909.000000  5110.000000  \n",
              "mean          106.147677    28.893237     0.048728  \n",
              "std            45.283560     7.854067     0.215320  \n",
              "min            55.120000    10.300000     0.000000  \n",
              "25%            77.245000    23.500000     0.000000  \n",
              "50%            91.885000    28.100000     0.000000  \n",
              "75%           114.090000    33.100000     0.000000  \n",
              "max           271.740000    97.600000     1.000000  "
            ]
          },
          "execution_count": 4,
          "metadata": {},
          "output_type": "execute_result"
        }
      ],
      "source": [
        "df.describe()"
      ]
    },
    {
      "cell_type": "markdown",
      "metadata": {
        "id": "AwHVEL4X7yuH"
      },
      "source": [
        "Fill NAN Values For bmi"
      ]
    },
    {
      "cell_type": "code",
      "execution_count": null,
      "metadata": {
        "id": "pug_WzPd7yuK"
      },
      "outputs": [],
      "source": [
        "df.bmi.fillna(df.bmi.median(), inplace=True)"
      ]
    },
    {
      "cell_type": "markdown",
      "metadata": {
        "id": "9AMZ0qCW7yuL"
      },
      "source": [
        "Handling Outliers"
      ]
    },
    {
      "cell_type": "code",
      "execution_count": null,
      "metadata": {
        "id": "gJW4QebT7yuL",
        "outputId": "214c6f3d-3844-4f23-a117-f016652929f1"
      },
      "outputs": [
        {
          "name": "stderr",
          "output_type": "stream",
          "text": [
            "c:\\Users\\lenovo\\anaconda3\\lib\\site-packages\\seaborn\\_decorators.py:36: FutureWarning: Pass the following variable as a keyword arg: x. From version 0.12, the only valid positional argument will be `data`, and passing other arguments without an explicit keyword will result in an error or misinterpretation.\n",
            "  warnings.warn(\n",
            "c:\\Users\\lenovo\\anaconda3\\lib\\site-packages\\seaborn\\_decorators.py:36: FutureWarning: Pass the following variable as a keyword arg: x. From version 0.12, the only valid positional argument will be `data`, and passing other arguments without an explicit keyword will result in an error or misinterpretation.\n",
            "  warnings.warn(\n"
          ]
        },
        {
          "data": {
            "text/plain": [
              "<AxesSubplot:xlabel='age'>"
            ]
          },
          "execution_count": 6,
          "metadata": {},
          "output_type": "execute_result"
        },
        {
          "data": {
            "image/png": "[encoded data removed]",
            "text/plain": [
              "<Figure size 432x288 with 1 Axes>"
            ]
          },
          "metadata": {
            "needs_background": "light"
          },
          "output_type": "display_data"
        }
      ],
      "source": [
        "sns.boxplot(df.age)\n",
        "sns.stripplot(df.age, color='black')"
      ]
    },
    {
      "cell_type": "markdown",
      "metadata": {
        "id": "1Cjh5mZD7yuM"
      },
      "source": [
        "As Shown No Outliers Are Noticed in Age Column"
      ]
    },
    {
      "cell_type": "code",
      "execution_count": null,
      "metadata": {
        "id": "QPL0Y94p7yuN",
        "outputId": "277dcfe5-5a48-413b-c4ef-fef7f816cd10"
      },
      "outputs": [
        {
          "name": "stderr",
          "output_type": "stream",
          "text": [
            "c:\\Users\\lenovo\\anaconda3\\lib\\site-packages\\seaborn\\_decorators.py:36: FutureWarning: Pass the following variable as a keyword arg: x. From version 0.12, the only valid positional argument will be `data`, and passing other arguments without an explicit keyword will result in an error or misinterpretation.\n",
            "  warnings.warn(\n",
            "c:\\Users\\lenovo\\anaconda3\\lib\\site-packages\\seaborn\\_decorators.py:36: FutureWarning: Pass the following variable as a keyword arg: x. From version 0.12, the only valid positional argument will be `data`, and passing other arguments without an explicit keyword will result in an error or misinterpretation.\n",
            "  warnings.warn(\n"
          ]
        },
        {
          "data": {
            "text/plain": [
              "<AxesSubplot:xlabel='bmi'>"
            ]
          },
          "execution_count": 7,
          "metadata": {},
          "output_type": "execute_result"
        },
        {
          "data": {
            "image/png": "[encoded data removed]",
            "text/plain": [
              "<Figure size 432x288 with 1 Axes>"
            ]
          },
          "metadata": {
            "needs_background": "light"
          },
          "output_type": "display_data"
        }
      ],
      "source": [
        "sns.boxplot(df.bmi)\n",
        "sns.stripplot(df.bmi, color='black')"
      ]
    },
    {
      "cell_type": "code",
      "execution_count": null,
      "metadata": {
        "id": "aJAmF2JS7yuO",
        "outputId": "6fe0701a-646b-426d-d7b4-94653f554320"
      },
      "outputs": [
        {
          "name": "stderr",
          "output_type": "stream",
          "text": [
            "c:\\Users\\lenovo\\anaconda3\\lib\\site-packages\\seaborn\\_decorators.py:36: FutureWarning: Pass the following variable as a keyword arg: x. From version 0.12, the only valid positional argument will be `data`, and passing other arguments without an explicit keyword will result in an error or misinterpretation.\n",
            "  warnings.warn(\n",
            "c:\\Users\\lenovo\\anaconda3\\lib\\site-packages\\seaborn\\_decorators.py:36: FutureWarning: Pass the following variable as a keyword arg: x. From version 0.12, the only valid positional argument will be `data`, and passing other arguments without an explicit keyword will result in an error or misinterpretation.\n",
            "  warnings.warn(\n"
          ]
        },
        {
          "data": {
            "text/plain": [
              "<AxesSubplot:xlabel='avg_glucose_level'>"
            ]
          },
          "execution_count": 8,
          "metadata": {},
          "output_type": "execute_result"
        },
        {
          "data": {
            "image/png": "[encoded data removed]",
            "text/plain": [
              "<Figure size 432x288 with 1 Axes>"
            ]
          },
          "metadata": {
            "needs_background": "light"
          },
          "output_type": "display_data"
        }
      ],
      "source": [
        "sns.boxplot(df.avg_glucose_level)\n",
        "sns.stripplot(df.avg_glucose_level, color='black')"
      ]
    },
    {
      "cell_type": "code",
      "execution_count": null,
      "metadata": {
        "id": "_vd8PRtN7yuO"
      },
      "outputs": [],
      "source": [
        "from datasist.structdata import detect_outliers"
      ]
    },
    {
      "cell_type": "code",
      "execution_count": null,
      "metadata": {
        "id": "xzjBg4KG7yuP",
        "outputId": "4e0ead73-5cba-43b9-a768-ae8dccd109b3"
      },
      "outputs": [
        {
          "name": "stderr",
          "output_type": "stream",
          "text": [
            "C:\\Users\\lenovo\\AppData\\Local\\Temp\\ipykernel_13988\\3395909883.py:7: SettingWithCopyWarning: \n",
            "A value is trying to be set on a copy of a slice from a DataFrame\n",
            "\n",
            "See the caveats in the documentation: https://pandas.pydata.org/pandas-docs/stable/user_guide/indexing.html#returning-a-view-versus-a-copy\n",
            "  df[c].iloc[outlers_indeces] = median\n"
          ]
        }
      ],
      "source": [
        "for c in df.columns[8:10]:\n",
        "\n",
        "    outlers_indeces = detect_outliers(df, 0, [c])\n",
        "\n",
        "    median = df[c].median()\n",
        "\n",
        "    df[c].iloc[outlers_indeces] = median"
      ]
    },
    {
      "cell_type": "code",
      "execution_count": null,
      "metadata": {
        "id": "aG2rKoUy7yuQ",
        "outputId": "2af2b801-4a43-493b-c502-3bf8f18b98f2"
      },
      "outputs": [
        {
          "name": "stderr",
          "output_type": "stream",
          "text": [
            "c:\\Users\\lenovo\\anaconda3\\lib\\site-packages\\seaborn\\_decorators.py:36: FutureWarning: Pass the following variable as a keyword arg: x. From version 0.12, the only valid positional argument will be `data`, and passing other arguments without an explicit keyword will result in an error or misinterpretation.\n",
            "  warnings.warn(\n",
            "c:\\Users\\lenovo\\anaconda3\\lib\\site-packages\\seaborn\\_decorators.py:36: FutureWarning: Pass the following variable as a keyword arg: x. From version 0.12, the only valid positional argument will be `data`, and passing other arguments without an explicit keyword will result in an error or misinterpretation.\n",
            "  warnings.warn(\n"
          ]
        },
        {
          "data": {
            "text/plain": [
              "<AxesSubplot:xlabel='bmi'>"
            ]
          },
          "execution_count": 11,
          "metadata": {},
          "output_type": "execute_result"
        },
        {
          "data": {
            "image/png": "[encoded data removed]",
            "text/plain": [
              "<Figure size 432x288 with 1 Axes>"
            ]
          },
          "metadata": {
            "needs_background": "light"
          },
          "output_type": "display_data"
        }
      ],
      "source": [
        "sns.boxplot(df.bmi)\n",
        "sns.stripplot(df.bmi, color='black')"
      ]
    },
    {
      "cell_type": "code",
      "execution_count": null,
      "metadata": {
        "id": "wpm9Ivk27yuQ",
        "outputId": "eec2e327-245d-4ea3-ad48-c235610f05b4"
      },
      "outputs": [
        {
          "name": "stderr",
          "output_type": "stream",
          "text": [
            "c:\\Users\\lenovo\\anaconda3\\lib\\site-packages\\seaborn\\_decorators.py:36: FutureWarning: Pass the following variable as a keyword arg: x. From version 0.12, the only valid positional argument will be `data`, and passing other arguments without an explicit keyword will result in an error or misinterpretation.\n",
            "  warnings.warn(\n",
            "c:\\Users\\lenovo\\anaconda3\\lib\\site-packages\\seaborn\\_decorators.py:36: FutureWarning: Pass the following variable as a keyword arg: x. From version 0.12, the only valid positional argument will be `data`, and passing other arguments without an explicit keyword will result in an error or misinterpretation.\n",
            "  warnings.warn(\n"
          ]
        },
        {
          "data": {
            "text/plain": [
              "<AxesSubplot:xlabel='avg_glucose_level'>"
            ]
          },
          "execution_count": 12,
          "metadata": {},
          "output_type": "execute_result"
        },
        {
          "data": {
            "image/png": "[encoded data removed]",
            "text/plain": [
              "<Figure size 432x288 with 1 Axes>"
            ]
          },
          "metadata": {
            "needs_background": "light"
          },
          "output_type": "display_data"
        }
      ],
      "source": [
        "sns.boxplot(df.avg_glucose_level)\n",
        "sns.stripplot(df.avg_glucose_level, color='black')"
      ]
    },
    {
      "cell_type": "markdown",
      "metadata": {
        "id": "Q7cXZQSR7yuR"
      },
      "source": [
        "Dealing with Categorical Data"
      ]
    },
    {
      "cell_type": "code",
      "execution_count": null,
      "metadata": {
        "id": "nKVZZ8Qf7yuR",
        "outputId": "9771abcd-dfe3-495c-ee8e-4b58d710c55b"
      },
      "outputs": [
        {
          "name": "stderr",
          "output_type": "stream",
          "text": [
            "c:\\Users\\lenovo\\anaconda3\\lib\\site-packages\\seaborn\\_decorators.py:36: FutureWarning: Pass the following variable as a keyword arg: x. From version 0.12, the only valid positional argument will be `data`, and passing other arguments without an explicit keyword will result in an error or misinterpretation.\n",
            "  warnings.warn(\n"
          ]
        },
        {
          "data": {
            "text/plain": [
              "<AxesSubplot:xlabel='gender', ylabel='count'>"
            ]
          },
          "execution_count": 13,
          "metadata": {},
          "output_type": "execute_result"
        },
        {
          "data": {
            "image/png": "[encoded data removed]",
            "text/plain": [
              "<Figure size 432x288 with 1 Axes>"
            ]
          },
          "metadata": {
            "needs_background": "light"
          },
          "output_type": "display_data"
        }
      ],
      "source": [
        "sns.countplot(df.gender)"
      ]
    },
    {
      "cell_type": "code",
      "execution_count": null,
      "metadata": {
        "id": "z_CQJEe77yuS",
        "outputId": "ecfb68e1-34e5-4428-b6b2-377df6e152be"
      },
      "outputs": [
        {
          "data": {
            "text/plain": [
              "Female    2994\n",
              "Male      2115\n",
              "Other        1\n",
              "Name: gender, dtype: int64"
            ]
          },
          "execution_count": 14,
          "metadata": {},
          "output_type": "execute_result"
        }
      ],
      "source": [
        "df.gender.value_counts()"
      ]
    },
    {
      "cell_type": "code",
      "execution_count": null,
      "metadata": {
        "id": "TQJPS2E97yuS",
        "outputId": "4ba969a1-e8f4-4870-edbb-9ddea19f21e9"
      },
      "outputs": [
        {
          "data": {
            "text/plain": [
              "3116"
            ]
          },
          "execution_count": 15,
          "metadata": {},
          "output_type": "execute_result"
        }
      ],
      "source": [
        "index = df.gender[df.gender == 'Other'].index[0]\n",
        "index"
      ]
    },
    {
      "cell_type": "code",
      "execution_count": null,
      "metadata": {
        "id": "oiWeGUz27yuT"
      },
      "outputs": [],
      "source": [
        "df.drop(index, inplace=True)"
      ]
    },
    {
      "cell_type": "code",
      "execution_count": null,
      "metadata": {
        "id": "rtpdyZrI7yuT",
        "outputId": "18be991e-192b-4c82-bd6d-5289cffbe799"
      },
      "outputs": [
        {
          "data": {
            "text/plain": [
              "<AxesSubplot:xlabel='hypertension', ylabel='count'>"
            ]
          },
          "execution_count": 17,
          "metadata": {},
          "output_type": "execute_result"
        },
        {
          "data": {
            "image/png": "[encoded data removed]",
            "text/plain": [
              "<Figure size 432x288 with 1 Axes>"
            ]
          },
          "metadata": {
            "needs_background": "light"
          },
          "output_type": "display_data"
        }
      ],
      "source": [
        "sns.countplot(x=df.hypertension)"
      ]
    },
    {
      "cell_type": "code",
      "execution_count": null,
      "metadata": {
        "id": "8DQiLKJ97yuT",
        "outputId": "fa7d9959-d70b-4303-a8d0-36fa396096e1"
      },
      "outputs": [
        {
          "data": {
            "text/plain": [
              "<AxesSubplot:xlabel='heart_disease', ylabel='count'>"
            ]
          },
          "execution_count": 18,
          "metadata": {},
          "output_type": "execute_result"
        },
        {
          "data": {
            "image/png": "[encoded data removed]",
            "text/plain": [
              "<Figure size 432x288 with 1 Axes>"
            ]
          },
          "metadata": {
            "needs_background": "light"
          },
          "output_type": "display_data"
        }
      ],
      "source": [
        "sns.countplot(x=df.heart_disease)"
      ]
    },
    {
      "cell_type": "code",
      "execution_count": null,
      "metadata": {
        "id": "8y7YrkJn7yuU",
        "outputId": "293d6ecf-e342-49ba-8640-ec2e5ff34d7d"
      },
      "outputs": [
        {
          "data": {
            "text/plain": [
              "<AxesSubplot:xlabel='ever_married', ylabel='count'>"
            ]
          },
          "execution_count": 19,
          "metadata": {},
          "output_type": "execute_result"
        },
        {
          "data": {
            "image/png": "[encoded data removed]",
            "text/plain": [
              "<Figure size 432x288 with 1 Axes>"
            ]
          },
          "metadata": {
            "needs_background": "light"
          },
          "output_type": "display_data"
        }
      ],
      "source": [
        "sns.countplot(x=df.ever_married)"
      ]
    },
    {
      "cell_type": "code",
      "execution_count": null,
      "metadata": {
        "id": "RrgfyjTc7yuU",
        "outputId": "d87c71eb-7da0-4f66-9c27-dd95324bc706"
      },
      "outputs": [
        {
          "data": {
            "text/plain": [
              "<AxesSubplot:xlabel='work_type', ylabel='count'>"
            ]
          },
          "execution_count": 20,
          "metadata": {},
          "output_type": "execute_result"
        },
        {
          "data": {
            "image/png": "[encoded data removed]",
            "text/plain": [
              "<Figure size 432x288 with 1 Axes>"
            ]
          },
          "metadata": {
            "needs_background": "light"
          },
          "output_type": "display_data"
        }
      ],
      "source": [
        "sns.countplot(x=df.work_type)"
      ]
    },
    {
      "cell_type": "code",
      "execution_count": null,
      "metadata": {
        "id": "RVNDXyz67yuU",
        "outputId": "5ac66c40-a90c-4abd-e552-7ecd4a7dfa5e"
      },
      "outputs": [
        {
          "data": {
            "text/plain": [
              "<AxesSubplot:xlabel='Residence_type', ylabel='count'>"
            ]
          },
          "execution_count": 21,
          "metadata": {},
          "output_type": "execute_result"
        },
        {
          "data": {
            "image/png": "[encoded data removed]",
            "text/plain": [
              "<Figure size 432x288 with 1 Axes>"
            ]
          },
          "metadata": {
            "needs_background": "light"
          },
          "output_type": "display_data"
        }
      ],
      "source": [
        "sns.countplot(x=df.Residence_type)"
      ]
    },
    {
      "cell_type": "code",
      "execution_count": null,
      "metadata": {
        "id": "0SrE4izL7yuV",
        "outputId": "46b84ff4-fe09-467b-991f-fc27d656e2c7"
      },
      "outputs": [
        {
          "data": {
            "text/plain": [
              "<AxesSubplot:xlabel='smoking_status', ylabel='count'>"
            ]
          },
          "execution_count": 22,
          "metadata": {},
          "output_type": "execute_result"
        },
        {
          "data": {
            "image/png": "[encoded data removed]",
            "text/plain": [
              "<Figure size 432x288 with 1 Axes>"
            ]
          },
          "metadata": {
            "needs_background": "light"
          },
          "output_type": "display_data"
        }
      ],
      "source": [
        "sns.countplot(x=df.smoking_status)"
      ]
    },
    {
      "cell_type": "code",
      "execution_count": null,
      "metadata": {
        "id": "XuuFb9WL7yuV",
        "outputId": "5e166b62-2aad-4f32-de23-7f5714dcf3eb"
      },
      "outputs": [
        {
          "data": {
            "text/plain": [
              "never smoked       1892\n",
              "Unknown            1544\n",
              "formerly smoked     884\n",
              "smokes              789\n",
              "Name: smoking_status, dtype: int64"
            ]
          },
          "execution_count": 23,
          "metadata": {},
          "output_type": "execute_result"
        }
      ],
      "source": [
        "df.smoking_status.value_counts()"
      ]
    },
    {
      "cell_type": "code",
      "execution_count": null,
      "metadata": {
        "id": "8k-kMMAm7yuV",
        "outputId": "ec706a77-2895-4038-d6ab-a74b76d22d2a"
      },
      "outputs": [
        {
          "name": "stderr",
          "output_type": "stream",
          "text": [
            "C:\\Users\\lenovo\\AppData\\Local\\Temp\\ipykernel_13988\\302614563.py:1: SettingWithCopyWarning: \n",
            "A value is trying to be set on a copy of a slice from a DataFrame\n",
            "\n",
            "See the caveats in the documentation: https://pandas.pydata.org/pandas-docs/stable/user_guide/indexing.html#returning-a-view-versus-a-copy\n",
            "  df.smoking_status[df.smoking_status == 'Unknown'] = df.smoking_status.mode()[0]\n"
          ]
        }
      ],
      "source": [
        "df.smoking_status[df.smoking_status == 'Unknown'] = df.smoking_status.mode()[0]\n"
      ]
    },
    {
      "cell_type": "code",
      "execution_count": null,
      "metadata": {
        "id": "vCkyh_la7yuW",
        "outputId": "9a72e5f0-bc96-46b2-f075-24c38d94a0f0"
      },
      "outputs": [
        {
          "data": {
            "text/plain": [
              "<AxesSubplot:xlabel='smoking_status', ylabel='count'>"
            ]
          },
          "execution_count": 25,
          "metadata": {},
          "output_type": "execute_result"
        },
        {
          "data": {
            "image/png": "[encoded data removed]",
            "text/plain": [
              "<Figure size 432x288 with 1 Axes>"
            ]
          },
          "metadata": {
            "needs_background": "light"
          },
          "output_type": "display_data"
        }
      ],
      "source": [
        "sns.countplot(x=df.smoking_status)"
      ]
    },
    {
      "cell_type": "code",
      "execution_count": null,
      "metadata": {
        "id": "Sst0Q_Yz7yuW",
        "outputId": "e48d12f6-1a8f-4b12-df70-c56f78800601"
      },
      "outputs": [
        {
          "data": {
            "text/plain": [
              "<AxesSubplot:xlabel='stroke', ylabel='count'>"
            ]
          },
          "execution_count": 26,
          "metadata": {},
          "output_type": "execute_result"
        },
        {
          "data": {
            "image/png": "[encoded data removed]",
            "text/plain": [
              "<Figure size 432x288 with 1 Axes>"
            ]
          },
          "metadata": {
            "needs_background": "light"
          },
          "output_type": "display_data"
        }
      ],
      "source": [
        "sns.countplot(x=df.stroke)"
      ]
    },
    {
      "cell_type": "code",
      "execution_count": null,
      "metadata": {
        "id": "egp7wXlw7yuW"
      },
      "outputs": [],
      "source": [
        "from sklearn.preprocessing import OneHotEncoder\n",
        "one_hot = OneHotEncoder(drop='first')\n",
        "df_new = one_hot.fit_transform(df[['gender', 'ever_married', 'work_type', 'Residence_type', 'smoking_status']])"
      ]
    },
    {
      "cell_type": "code",
      "execution_count": null,
      "metadata": {
        "id": "1ZHBQX707yuX",
        "outputId": "a2246571-5c1c-4f23-ee25-4819f9742754"
      },
      "outputs": [
        {
          "data": {
            "text/html": [
              "<div>\n",
              "<style scoped>\n",
              "    .dataframe tbody tr th:only-of-type {\n",
              "        vertical-align: middle;\n",
              "    }\n",
              "\n",
              "    .dataframe tbody tr th {\n",
              "        vertical-align: top;\n",
              "    }\n",
              "\n",
              "    .dataframe thead th {\n",
              "        text-align: right;\n",
              "    }\n",
              "</style>\n",
              "<table border=\"1\" class=\"dataframe\">\n",
              "  <thead>\n",
              "    <tr style=\"text-align: right;\">\n",
              "      <th></th>\n",
              "      <th>gender_Male</th>\n",
              "      <th>ever_married_Yes</th>\n",
              "      <th>work_type_Never_worked</th>\n",
              "      <th>work_type_Private</th>\n",
              "      <th>work_type_Self-employed</th>\n",
              "      <th>work_type_children</th>\n",
              "      <th>Residence_type_Urban</th>\n",
              "      <th>smoking_status_never smoked</th>\n",
              "      <th>smoking_status_smokes</th>\n",
              "    </tr>\n",
              "  </thead>\n",
              "  <tbody>\n",
              "    <tr>\n",
              "      <th>0</th>\n",
              "      <td>1.0</td>\n",
              "      <td>1.0</td>\n",
              "      <td>0.0</td>\n",
              "      <td>1.0</td>\n",
              "      <td>0.0</td>\n",
              "      <td>0.0</td>\n",
              "      <td>1.0</td>\n",
              "      <td>0.0</td>\n",
              "      <td>0.0</td>\n",
              "    </tr>\n",
              "    <tr>\n",
              "      <th>1</th>\n",
              "      <td>0.0</td>\n",
              "      <td>1.0</td>\n",
              "      <td>0.0</td>\n",
              "      <td>0.0</td>\n",
              "      <td>1.0</td>\n",
              "      <td>0.0</td>\n",
              "      <td>0.0</td>\n",
              "      <td>1.0</td>\n",
              "      <td>0.0</td>\n",
              "    </tr>\n",
              "    <tr>\n",
              "      <th>2</th>\n",
              "      <td>1.0</td>\n",
              "      <td>1.0</td>\n",
              "      <td>0.0</td>\n",
              "      <td>1.0</td>\n",
              "      <td>0.0</td>\n",
              "      <td>0.0</td>\n",
              "      <td>0.0</td>\n",
              "      <td>1.0</td>\n",
              "      <td>0.0</td>\n",
              "    </tr>\n",
              "    <tr>\n",
              "      <th>3</th>\n",
              "      <td>0.0</td>\n",
              "      <td>1.0</td>\n",
              "      <td>0.0</td>\n",
              "      <td>1.0</td>\n",
              "      <td>0.0</td>\n",
              "      <td>0.0</td>\n",
              "      <td>1.0</td>\n",
              "      <td>0.0</td>\n",
              "      <td>1.0</td>\n",
              "    </tr>\n",
              "    <tr>\n",
              "      <th>4</th>\n",
              "      <td>0.0</td>\n",
              "      <td>1.0</td>\n",
              "      <td>0.0</td>\n",
              "      <td>0.0</td>\n",
              "      <td>1.0</td>\n",
              "      <td>0.0</td>\n",
              "      <td>0.0</td>\n",
              "      <td>1.0</td>\n",
              "      <td>0.0</td>\n",
              "    </tr>\n",
              "    <tr>\n",
              "      <th>...</th>\n",
              "      <td>...</td>\n",
              "      <td>...</td>\n",
              "      <td>...</td>\n",
              "      <td>...</td>\n",
              "      <td>...</td>\n",
              "      <td>...</td>\n",
              "      <td>...</td>\n",
              "      <td>...</td>\n",
              "      <td>...</td>\n",
              "    </tr>\n",
              "    <tr>\n",
              "      <th>5104</th>\n",
              "      <td>0.0</td>\n",
              "      <td>1.0</td>\n",
              "      <td>0.0</td>\n",
              "      <td>1.0</td>\n",
              "      <td>0.0</td>\n",
              "      <td>0.0</td>\n",
              "      <td>1.0</td>\n",
              "      <td>1.0</td>\n",
              "      <td>0.0</td>\n",
              "    </tr>\n",
              "    <tr>\n",
              "      <th>5105</th>\n",
              "      <td>0.0</td>\n",
              "      <td>1.0</td>\n",
              "      <td>0.0</td>\n",
              "      <td>0.0</td>\n",
              "      <td>1.0</td>\n",
              "      <td>0.0</td>\n",
              "      <td>1.0</td>\n",
              "      <td>1.0</td>\n",
              "      <td>0.0</td>\n",
              "    </tr>\n",
              "    <tr>\n",
              "      <th>5106</th>\n",
              "      <td>0.0</td>\n",
              "      <td>1.0</td>\n",
              "      <td>0.0</td>\n",
              "      <td>0.0</td>\n",
              "      <td>1.0</td>\n",
              "      <td>0.0</td>\n",
              "      <td>0.0</td>\n",
              "      <td>1.0</td>\n",
              "      <td>0.0</td>\n",
              "    </tr>\n",
              "    <tr>\n",
              "      <th>5107</th>\n",
              "      <td>1.0</td>\n",
              "      <td>1.0</td>\n",
              "      <td>0.0</td>\n",
              "      <td>1.0</td>\n",
              "      <td>0.0</td>\n",
              "      <td>0.0</td>\n",
              "      <td>0.0</td>\n",
              "      <td>0.0</td>\n",
              "      <td>0.0</td>\n",
              "    </tr>\n",
              "    <tr>\n",
              "      <th>5108</th>\n",
              "      <td>0.0</td>\n",
              "      <td>1.0</td>\n",
              "      <td>0.0</td>\n",
              "      <td>0.0</td>\n",
              "      <td>0.0</td>\n",
              "      <td>0.0</td>\n",
              "      <td>1.0</td>\n",
              "      <td>1.0</td>\n",
              "      <td>0.0</td>\n",
              "    </tr>\n",
              "  </tbody>\n",
              "</table>\n",
              "<p>5109 rows × 9 columns</p>\n",
              "</div>"
            ],
            "text/plain": [
              "      gender_Male  ever_married_Yes  work_type_Never_worked  \\\n",
              "0             1.0               1.0                     0.0   \n",
              "1             0.0               1.0                     0.0   \n",
              "2             1.0               1.0                     0.0   \n",
              "3             0.0               1.0                     0.0   \n",
              "4             0.0               1.0                     0.0   \n",
              "...           ...               ...                     ...   \n",
              "5104          0.0               1.0                     0.0   \n",
              "5105          0.0               1.0                     0.0   \n",
              "5106          0.0               1.0                     0.0   \n",
              "5107          1.0               1.0                     0.0   \n",
              "5108          0.0               1.0                     0.0   \n",
              "\n",
              "      work_type_Private  work_type_Self-employed  work_type_children  \\\n",
              "0                   1.0                      0.0                 0.0   \n",
              "1                   0.0                      1.0                 0.0   \n",
              "2                   1.0                      0.0                 0.0   \n",
              "3                   1.0                      0.0                 0.0   \n",
              "4                   0.0                      1.0                 0.0   \n",
              "...                 ...                      ...                 ...   \n",
              "5104                1.0                      0.0                 0.0   \n",
              "5105                0.0                      1.0                 0.0   \n",
              "5106                0.0                      1.0                 0.0   \n",
              "5107                1.0                      0.0                 0.0   \n",
              "5108                0.0                      0.0                 0.0   \n",
              "\n",
              "      Residence_type_Urban  smoking_status_never smoked  smoking_status_smokes  \n",
              "0                      1.0                          0.0                    0.0  \n",
              "1                      0.0                          1.0                    0.0  \n",
              "2                      0.0                          1.0                    0.0  \n",
              "3                      1.0                          0.0                    1.0  \n",
              "4                      0.0                          1.0                    0.0  \n",
              "...                    ...                          ...                    ...  \n",
              "5104                   1.0                          1.0                    0.0  \n",
              "5105                   1.0                          1.0                    0.0  \n",
              "5106                   0.0                          1.0                    0.0  \n",
              "5107                   0.0                          0.0                    0.0  \n",
              "5108                   1.0                          1.0                    0.0  \n",
              "\n",
              "[5109 rows x 9 columns]"
            ]
          },
          "execution_count": 29,
          "metadata": {},
          "output_type": "execute_result"
        }
      ],
      "source": [
        "df_encoded = pd.DataFrame(df_new.toarray(), columns=one_hot.get_feature_names_out())\n",
        "df_encoded"
      ]
    },
    {
      "cell_type": "code",
      "execution_count": null,
      "metadata": {
        "id": "N5Z6ydE17yuX",
        "outputId": "a87c70a5-bc84-437b-8cdd-683237033892"
      },
      "outputs": [
        {
          "data": {
            "text/html": [
              "<div>\n",
              "<style scoped>\n",
              "    .dataframe tbody tr th:only-of-type {\n",
              "        vertical-align: middle;\n",
              "    }\n",
              "\n",
              "    .dataframe tbody tr th {\n",
              "        vertical-align: top;\n",
              "    }\n",
              "\n",
              "    .dataframe thead th {\n",
              "        text-align: right;\n",
              "    }\n",
              "</style>\n",
              "<table border=\"1\" class=\"dataframe\">\n",
              "  <thead>\n",
              "    <tr style=\"text-align: right;\">\n",
              "      <th></th>\n",
              "      <th>id</th>\n",
              "      <th>gender</th>\n",
              "      <th>age</th>\n",
              "      <th>hypertension</th>\n",
              "      <th>heart_disease</th>\n",
              "      <th>ever_married</th>\n",
              "      <th>work_type</th>\n",
              "      <th>Residence_type</th>\n",
              "      <th>avg_glucose_level</th>\n",
              "      <th>bmi</th>\n",
              "      <th>...</th>\n",
              "      <th>stroke</th>\n",
              "      <th>gender_Male</th>\n",
              "      <th>ever_married_Yes</th>\n",
              "      <th>work_type_Never_worked</th>\n",
              "      <th>work_type_Private</th>\n",
              "      <th>work_type_Self-employed</th>\n",
              "      <th>work_type_children</th>\n",
              "      <th>Residence_type_Urban</th>\n",
              "      <th>smoking_status_never smoked</th>\n",
              "      <th>smoking_status_smokes</th>\n",
              "    </tr>\n",
              "  </thead>\n",
              "  <tbody>\n",
              "    <tr>\n",
              "      <th>0</th>\n",
              "      <td>9046.0</td>\n",
              "      <td>Male</td>\n",
              "      <td>67.0</td>\n",
              "      <td>0.0</td>\n",
              "      <td>1.0</td>\n",
              "      <td>Yes</td>\n",
              "      <td>Private</td>\n",
              "      <td>Urban</td>\n",
              "      <td>91.885</td>\n",
              "      <td>36.6</td>\n",
              "      <td>...</td>\n",
              "      <td>1.0</td>\n",
              "      <td>1.0</td>\n",
              "      <td>1.0</td>\n",
              "      <td>0.0</td>\n",
              "      <td>1.0</td>\n",
              "      <td>0.0</td>\n",
              "      <td>0.0</td>\n",
              "      <td>1.0</td>\n",
              "      <td>0.0</td>\n",
              "      <td>0.0</td>\n",
              "    </tr>\n",
              "    <tr>\n",
              "      <th>1</th>\n",
              "      <td>51676.0</td>\n",
              "      <td>Female</td>\n",
              "      <td>61.0</td>\n",
              "      <td>0.0</td>\n",
              "      <td>0.0</td>\n",
              "      <td>Yes</td>\n",
              "      <td>Self-employed</td>\n",
              "      <td>Rural</td>\n",
              "      <td>91.885</td>\n",
              "      <td>28.1</td>\n",
              "      <td>...</td>\n",
              "      <td>1.0</td>\n",
              "      <td>0.0</td>\n",
              "      <td>1.0</td>\n",
              "      <td>0.0</td>\n",
              "      <td>0.0</td>\n",
              "      <td>1.0</td>\n",
              "      <td>0.0</td>\n",
              "      <td>0.0</td>\n",
              "      <td>1.0</td>\n",
              "      <td>0.0</td>\n",
              "    </tr>\n",
              "    <tr>\n",
              "      <th>2</th>\n",
              "      <td>31112.0</td>\n",
              "      <td>Male</td>\n",
              "      <td>80.0</td>\n",
              "      <td>0.0</td>\n",
              "      <td>1.0</td>\n",
              "      <td>Yes</td>\n",
              "      <td>Private</td>\n",
              "      <td>Rural</td>\n",
              "      <td>105.920</td>\n",
              "      <td>32.5</td>\n",
              "      <td>...</td>\n",
              "      <td>1.0</td>\n",
              "      <td>1.0</td>\n",
              "      <td>1.0</td>\n",
              "      <td>0.0</td>\n",
              "      <td>1.0</td>\n",
              "      <td>0.0</td>\n",
              "      <td>0.0</td>\n",
              "      <td>0.0</td>\n",
              "      <td>1.0</td>\n",
              "      <td>0.0</td>\n",
              "    </tr>\n",
              "    <tr>\n",
              "      <th>3</th>\n",
              "      <td>60182.0</td>\n",
              "      <td>Female</td>\n",
              "      <td>49.0</td>\n",
              "      <td>0.0</td>\n",
              "      <td>0.0</td>\n",
              "      <td>Yes</td>\n",
              "      <td>Private</td>\n",
              "      <td>Urban</td>\n",
              "      <td>91.885</td>\n",
              "      <td>34.4</td>\n",
              "      <td>...</td>\n",
              "      <td>1.0</td>\n",
              "      <td>0.0</td>\n",
              "      <td>1.0</td>\n",
              "      <td>0.0</td>\n",
              "      <td>1.0</td>\n",
              "      <td>0.0</td>\n",
              "      <td>0.0</td>\n",
              "      <td>1.0</td>\n",
              "      <td>0.0</td>\n",
              "      <td>1.0</td>\n",
              "    </tr>\n",
              "    <tr>\n",
              "      <th>4</th>\n",
              "      <td>1665.0</td>\n",
              "      <td>Female</td>\n",
              "      <td>79.0</td>\n",
              "      <td>1.0</td>\n",
              "      <td>0.0</td>\n",
              "      <td>Yes</td>\n",
              "      <td>Self-employed</td>\n",
              "      <td>Rural</td>\n",
              "      <td>91.885</td>\n",
              "      <td>24.0</td>\n",
              "      <td>...</td>\n",
              "      <td>1.0</td>\n",
              "      <td>0.0</td>\n",
              "      <td>1.0</td>\n",
              "      <td>0.0</td>\n",
              "      <td>0.0</td>\n",
              "      <td>1.0</td>\n",
              "      <td>0.0</td>\n",
              "      <td>0.0</td>\n",
              "      <td>1.0</td>\n",
              "      <td>0.0</td>\n",
              "    </tr>\n",
              "    <tr>\n",
              "      <th>...</th>\n",
              "      <td>...</td>\n",
              "      <td>...</td>\n",
              "      <td>...</td>\n",
              "      <td>...</td>\n",
              "      <td>...</td>\n",
              "      <td>...</td>\n",
              "      <td>...</td>\n",
              "      <td>...</td>\n",
              "      <td>...</td>\n",
              "      <td>...</td>\n",
              "      <td>...</td>\n",
              "      <td>...</td>\n",
              "      <td>...</td>\n",
              "      <td>...</td>\n",
              "      <td>...</td>\n",
              "      <td>...</td>\n",
              "      <td>...</td>\n",
              "      <td>...</td>\n",
              "      <td>...</td>\n",
              "      <td>...</td>\n",
              "      <td>...</td>\n",
              "    </tr>\n",
              "    <tr>\n",
              "      <th>5106</th>\n",
              "      <td>44873.0</td>\n",
              "      <td>Female</td>\n",
              "      <td>81.0</td>\n",
              "      <td>0.0</td>\n",
              "      <td>0.0</td>\n",
              "      <td>Yes</td>\n",
              "      <td>Self-employed</td>\n",
              "      <td>Urban</td>\n",
              "      <td>125.200</td>\n",
              "      <td>40.0</td>\n",
              "      <td>...</td>\n",
              "      <td>0.0</td>\n",
              "      <td>0.0</td>\n",
              "      <td>1.0</td>\n",
              "      <td>0.0</td>\n",
              "      <td>0.0</td>\n",
              "      <td>1.0</td>\n",
              "      <td>0.0</td>\n",
              "      <td>0.0</td>\n",
              "      <td>1.0</td>\n",
              "      <td>0.0</td>\n",
              "    </tr>\n",
              "    <tr>\n",
              "      <th>5107</th>\n",
              "      <td>19723.0</td>\n",
              "      <td>Female</td>\n",
              "      <td>35.0</td>\n",
              "      <td>0.0</td>\n",
              "      <td>0.0</td>\n",
              "      <td>Yes</td>\n",
              "      <td>Self-employed</td>\n",
              "      <td>Rural</td>\n",
              "      <td>82.990</td>\n",
              "      <td>30.6</td>\n",
              "      <td>...</td>\n",
              "      <td>0.0</td>\n",
              "      <td>1.0</td>\n",
              "      <td>1.0</td>\n",
              "      <td>0.0</td>\n",
              "      <td>1.0</td>\n",
              "      <td>0.0</td>\n",
              "      <td>0.0</td>\n",
              "      <td>0.0</td>\n",
              "      <td>0.0</td>\n",
              "      <td>0.0</td>\n",
              "    </tr>\n",
              "    <tr>\n",
              "      <th>5108</th>\n",
              "      <td>37544.0</td>\n",
              "      <td>Male</td>\n",
              "      <td>51.0</td>\n",
              "      <td>0.0</td>\n",
              "      <td>0.0</td>\n",
              "      <td>Yes</td>\n",
              "      <td>Private</td>\n",
              "      <td>Rural</td>\n",
              "      <td>166.290</td>\n",
              "      <td>25.6</td>\n",
              "      <td>...</td>\n",
              "      <td>0.0</td>\n",
              "      <td>0.0</td>\n",
              "      <td>1.0</td>\n",
              "      <td>0.0</td>\n",
              "      <td>0.0</td>\n",
              "      <td>0.0</td>\n",
              "      <td>0.0</td>\n",
              "      <td>1.0</td>\n",
              "      <td>1.0</td>\n",
              "      <td>0.0</td>\n",
              "    </tr>\n",
              "    <tr>\n",
              "      <th>5109</th>\n",
              "      <td>44679.0</td>\n",
              "      <td>Female</td>\n",
              "      <td>44.0</td>\n",
              "      <td>0.0</td>\n",
              "      <td>0.0</td>\n",
              "      <td>Yes</td>\n",
              "      <td>Govt_job</td>\n",
              "      <td>Urban</td>\n",
              "      <td>85.280</td>\n",
              "      <td>26.2</td>\n",
              "      <td>...</td>\n",
              "      <td>0.0</td>\n",
              "      <td>NaN</td>\n",
              "      <td>NaN</td>\n",
              "      <td>NaN</td>\n",
              "      <td>NaN</td>\n",
              "      <td>NaN</td>\n",
              "      <td>NaN</td>\n",
              "      <td>NaN</td>\n",
              "      <td>NaN</td>\n",
              "      <td>NaN</td>\n",
              "    </tr>\n",
              "    <tr>\n",
              "      <th>3116</th>\n",
              "      <td>NaN</td>\n",
              "      <td>NaN</td>\n",
              "      <td>NaN</td>\n",
              "      <td>NaN</td>\n",
              "      <td>NaN</td>\n",
              "      <td>NaN</td>\n",
              "      <td>NaN</td>\n",
              "      <td>NaN</td>\n",
              "      <td>NaN</td>\n",
              "      <td>NaN</td>\n",
              "      <td>...</td>\n",
              "      <td>NaN</td>\n",
              "      <td>0.0</td>\n",
              "      <td>0.0</td>\n",
              "      <td>0.0</td>\n",
              "      <td>0.0</td>\n",
              "      <td>0.0</td>\n",
              "      <td>1.0</td>\n",
              "      <td>0.0</td>\n",
              "      <td>1.0</td>\n",
              "      <td>0.0</td>\n",
              "    </tr>\n",
              "  </tbody>\n",
              "</table>\n",
              "<p>5110 rows × 21 columns</p>\n",
              "</div>"
            ],
            "text/plain": [
              "           id  gender   age  hypertension  heart_disease ever_married  \\\n",
              "0      9046.0    Male  67.0           0.0            1.0          Yes   \n",
              "1     51676.0  Female  61.0           0.0            0.0          Yes   \n",
              "2     31112.0    Male  80.0           0.0            1.0          Yes   \n",
              "3     60182.0  Female  49.0           0.0            0.0          Yes   \n",
              "4      1665.0  Female  79.0           1.0            0.0          Yes   \n",
              "...       ...     ...   ...           ...            ...          ...   \n",
              "5106  44873.0  Female  81.0           0.0            0.0          Yes   \n",
              "5107  19723.0  Female  35.0           0.0            0.0          Yes   \n",
              "5108  37544.0    Male  51.0           0.0            0.0          Yes   \n",
              "5109  44679.0  Female  44.0           0.0            0.0          Yes   \n",
              "3116      NaN     NaN   NaN           NaN            NaN          NaN   \n",
              "\n",
              "          work_type Residence_type  avg_glucose_level   bmi  ... stroke  \\\n",
              "0           Private          Urban             91.885  36.6  ...    1.0   \n",
              "1     Self-employed          Rural             91.885  28.1  ...    1.0   \n",
              "2           Private          Rural            105.920  32.5  ...    1.0   \n",
              "3           Private          Urban             91.885  34.4  ...    1.0   \n",
              "4     Self-employed          Rural             91.885  24.0  ...    1.0   \n",
              "...             ...            ...                ...   ...  ...    ...   \n",
              "5106  Self-employed          Urban            125.200  40.0  ...    0.0   \n",
              "5107  Self-employed          Rural             82.990  30.6  ...    0.0   \n",
              "5108        Private          Rural            166.290  25.6  ...    0.0   \n",
              "5109       Govt_job          Urban             85.280  26.2  ...    0.0   \n",
              "3116            NaN            NaN                NaN   NaN  ...    NaN   \n",
              "\n",
              "      gender_Male  ever_married_Yes  work_type_Never_worked  \\\n",
              "0             1.0               1.0                     0.0   \n",
              "1             0.0               1.0                     0.0   \n",
              "2             1.0               1.0                     0.0   \n",
              "3             0.0               1.0                     0.0   \n",
              "4             0.0               1.0                     0.0   \n",
              "...           ...               ...                     ...   \n",
              "5106          0.0               1.0                     0.0   \n",
              "5107          1.0               1.0                     0.0   \n",
              "5108          0.0               1.0                     0.0   \n",
              "5109          NaN               NaN                     NaN   \n",
              "3116          0.0               0.0                     0.0   \n",
              "\n",
              "      work_type_Private  work_type_Self-employed  work_type_children  \\\n",
              "0                   1.0                      0.0                 0.0   \n",
              "1                   0.0                      1.0                 0.0   \n",
              "2                   1.0                      0.0                 0.0   \n",
              "3                   1.0                      0.0                 0.0   \n",
              "4                   0.0                      1.0                 0.0   \n",
              "...                 ...                      ...                 ...   \n",
              "5106                0.0                      1.0                 0.0   \n",
              "5107                1.0                      0.0                 0.0   \n",
              "5108                0.0                      0.0                 0.0   \n",
              "5109                NaN                      NaN                 NaN   \n",
              "3116                0.0                      0.0                 1.0   \n",
              "\n",
              "      Residence_type_Urban  smoking_status_never smoked  smoking_status_smokes  \n",
              "0                      1.0                          0.0                    0.0  \n",
              "1                      0.0                          1.0                    0.0  \n",
              "2                      0.0                          1.0                    0.0  \n",
              "3                      1.0                          0.0                    1.0  \n",
              "4                      0.0                          1.0                    0.0  \n",
              "...                    ...                          ...                    ...  \n",
              "5106                   0.0                          1.0                    0.0  \n",
              "5107                   0.0                          0.0                    0.0  \n",
              "5108                   1.0                          1.0                    0.0  \n",
              "5109                   NaN                          NaN                    NaN  \n",
              "3116                   0.0                          1.0                    0.0  \n",
              "\n",
              "[5110 rows x 21 columns]"
            ]
          },
          "execution_count": 30,
          "metadata": {},
          "output_type": "execute_result"
        }
      ],
      "source": [
        "df_final = pd.concat([df, df_encoded], axis=1)\n",
        "df_final"
      ]
    },
    {
      "cell_type": "code",
      "execution_count": null,
      "metadata": {
        "id": "jSmmuSct7yuX",
        "outputId": "874a3cb9-230d-44b3-fa5a-dc613fd5f980"
      },
      "outputs": [
        {
          "data": {
            "text/html": [
              "<div>\n",
              "<style scoped>\n",
              "    .dataframe tbody tr th:only-of-type {\n",
              "        vertical-align: middle;\n",
              "    }\n",
              "\n",
              "    .dataframe tbody tr th {\n",
              "        vertical-align: top;\n",
              "    }\n",
              "\n",
              "    .dataframe thead th {\n",
              "        text-align: right;\n",
              "    }\n",
              "</style>\n",
              "<table border=\"1\" class=\"dataframe\">\n",
              "  <thead>\n",
              "    <tr style=\"text-align: right;\">\n",
              "      <th></th>\n",
              "      <th>id</th>\n",
              "      <th>age</th>\n",
              "      <th>hypertension</th>\n",
              "      <th>heart_disease</th>\n",
              "      <th>avg_glucose_level</th>\n",
              "      <th>bmi</th>\n",
              "      <th>stroke</th>\n",
              "      <th>gender_Male</th>\n",
              "      <th>ever_married_Yes</th>\n",
              "      <th>work_type_Never_worked</th>\n",
              "      <th>work_type_Private</th>\n",
              "      <th>work_type_Self-employed</th>\n",
              "      <th>work_type_children</th>\n",
              "      <th>Residence_type_Urban</th>\n",
              "      <th>smoking_status_never smoked</th>\n",
              "      <th>smoking_status_smokes</th>\n",
              "    </tr>\n",
              "  </thead>\n",
              "  <tbody>\n",
              "    <tr>\n",
              "      <th>0</th>\n",
              "      <td>9046.0</td>\n",
              "      <td>67.0</td>\n",
              "      <td>0.0</td>\n",
              "      <td>1.0</td>\n",
              "      <td>91.885</td>\n",
              "      <td>36.6</td>\n",
              "      <td>1.0</td>\n",
              "      <td>1.0</td>\n",
              "      <td>1.0</td>\n",
              "      <td>0.0</td>\n",
              "      <td>1.0</td>\n",
              "      <td>0.0</td>\n",
              "      <td>0.0</td>\n",
              "      <td>1.0</td>\n",
              "      <td>0.0</td>\n",
              "      <td>0.0</td>\n",
              "    </tr>\n",
              "    <tr>\n",
              "      <th>1</th>\n",
              "      <td>51676.0</td>\n",
              "      <td>61.0</td>\n",
              "      <td>0.0</td>\n",
              "      <td>0.0</td>\n",
              "      <td>91.885</td>\n",
              "      <td>28.1</td>\n",
              "      <td>1.0</td>\n",
              "      <td>0.0</td>\n",
              "      <td>1.0</td>\n",
              "      <td>0.0</td>\n",
              "      <td>0.0</td>\n",
              "      <td>1.0</td>\n",
              "      <td>0.0</td>\n",
              "      <td>0.0</td>\n",
              "      <td>1.0</td>\n",
              "      <td>0.0</td>\n",
              "    </tr>\n",
              "    <tr>\n",
              "      <th>2</th>\n",
              "      <td>31112.0</td>\n",
              "      <td>80.0</td>\n",
              "      <td>0.0</td>\n",
              "      <td>1.0</td>\n",
              "      <td>105.920</td>\n",
              "      <td>32.5</td>\n",
              "      <td>1.0</td>\n",
              "      <td>1.0</td>\n",
              "      <td>1.0</td>\n",
              "      <td>0.0</td>\n",
              "      <td>1.0</td>\n",
              "      <td>0.0</td>\n",
              "      <td>0.0</td>\n",
              "      <td>0.0</td>\n",
              "      <td>1.0</td>\n",
              "      <td>0.0</td>\n",
              "    </tr>\n",
              "    <tr>\n",
              "      <th>3</th>\n",
              "      <td>60182.0</td>\n",
              "      <td>49.0</td>\n",
              "      <td>0.0</td>\n",
              "      <td>0.0</td>\n",
              "      <td>91.885</td>\n",
              "      <td>34.4</td>\n",
              "      <td>1.0</td>\n",
              "      <td>0.0</td>\n",
              "      <td>1.0</td>\n",
              "      <td>0.0</td>\n",
              "      <td>1.0</td>\n",
              "      <td>0.0</td>\n",
              "      <td>0.0</td>\n",
              "      <td>1.0</td>\n",
              "      <td>0.0</td>\n",
              "      <td>1.0</td>\n",
              "    </tr>\n",
              "    <tr>\n",
              "      <th>4</th>\n",
              "      <td>1665.0</td>\n",
              "      <td>79.0</td>\n",
              "      <td>1.0</td>\n",
              "      <td>0.0</td>\n",
              "      <td>91.885</td>\n",
              "      <td>24.0</td>\n",
              "      <td>1.0</td>\n",
              "      <td>0.0</td>\n",
              "      <td>1.0</td>\n",
              "      <td>0.0</td>\n",
              "      <td>0.0</td>\n",
              "      <td>1.0</td>\n",
              "      <td>0.0</td>\n",
              "      <td>0.0</td>\n",
              "      <td>1.0</td>\n",
              "      <td>0.0</td>\n",
              "    </tr>\n",
              "    <tr>\n",
              "      <th>...</th>\n",
              "      <td>...</td>\n",
              "      <td>...</td>\n",
              "      <td>...</td>\n",
              "      <td>...</td>\n",
              "      <td>...</td>\n",
              "      <td>...</td>\n",
              "      <td>...</td>\n",
              "      <td>...</td>\n",
              "      <td>...</td>\n",
              "      <td>...</td>\n",
              "      <td>...</td>\n",
              "      <td>...</td>\n",
              "      <td>...</td>\n",
              "      <td>...</td>\n",
              "      <td>...</td>\n",
              "      <td>...</td>\n",
              "    </tr>\n",
              "    <tr>\n",
              "      <th>5106</th>\n",
              "      <td>44873.0</td>\n",
              "      <td>81.0</td>\n",
              "      <td>0.0</td>\n",
              "      <td>0.0</td>\n",
              "      <td>125.200</td>\n",
              "      <td>40.0</td>\n",
              "      <td>0.0</td>\n",
              "      <td>0.0</td>\n",
              "      <td>1.0</td>\n",
              "      <td>0.0</td>\n",
              "      <td>0.0</td>\n",
              "      <td>1.0</td>\n",
              "      <td>0.0</td>\n",
              "      <td>0.0</td>\n",
              "      <td>1.0</td>\n",
              "      <td>0.0</td>\n",
              "    </tr>\n",
              "    <tr>\n",
              "      <th>5107</th>\n",
              "      <td>19723.0</td>\n",
              "      <td>35.0</td>\n",
              "      <td>0.0</td>\n",
              "      <td>0.0</td>\n",
              "      <td>82.990</td>\n",
              "      <td>30.6</td>\n",
              "      <td>0.0</td>\n",
              "      <td>1.0</td>\n",
              "      <td>1.0</td>\n",
              "      <td>0.0</td>\n",
              "      <td>1.0</td>\n",
              "      <td>0.0</td>\n",
              "      <td>0.0</td>\n",
              "      <td>0.0</td>\n",
              "      <td>0.0</td>\n",
              "      <td>0.0</td>\n",
              "    </tr>\n",
              "    <tr>\n",
              "      <th>5108</th>\n",
              "      <td>37544.0</td>\n",
              "      <td>51.0</td>\n",
              "      <td>0.0</td>\n",
              "      <td>0.0</td>\n",
              "      <td>166.290</td>\n",
              "      <td>25.6</td>\n",
              "      <td>0.0</td>\n",
              "      <td>0.0</td>\n",
              "      <td>1.0</td>\n",
              "      <td>0.0</td>\n",
              "      <td>0.0</td>\n",
              "      <td>0.0</td>\n",
              "      <td>0.0</td>\n",
              "      <td>1.0</td>\n",
              "      <td>1.0</td>\n",
              "      <td>0.0</td>\n",
              "    </tr>\n",
              "    <tr>\n",
              "      <th>5109</th>\n",
              "      <td>44679.0</td>\n",
              "      <td>44.0</td>\n",
              "      <td>0.0</td>\n",
              "      <td>0.0</td>\n",
              "      <td>85.280</td>\n",
              "      <td>26.2</td>\n",
              "      <td>0.0</td>\n",
              "      <td>NaN</td>\n",
              "      <td>NaN</td>\n",
              "      <td>NaN</td>\n",
              "      <td>NaN</td>\n",
              "      <td>NaN</td>\n",
              "      <td>NaN</td>\n",
              "      <td>NaN</td>\n",
              "      <td>NaN</td>\n",
              "      <td>NaN</td>\n",
              "    </tr>\n",
              "    <tr>\n",
              "      <th>3116</th>\n",
              "      <td>NaN</td>\n",
              "      <td>NaN</td>\n",
              "      <td>NaN</td>\n",
              "      <td>NaN</td>\n",
              "      <td>NaN</td>\n",
              "      <td>NaN</td>\n",
              "      <td>NaN</td>\n",
              "      <td>0.0</td>\n",
              "      <td>0.0</td>\n",
              "      <td>0.0</td>\n",
              "      <td>0.0</td>\n",
              "      <td>0.0</td>\n",
              "      <td>1.0</td>\n",
              "      <td>0.0</td>\n",
              "      <td>1.0</td>\n",
              "      <td>0.0</td>\n",
              "    </tr>\n",
              "  </tbody>\n",
              "</table>\n",
              "<p>5110 rows × 16 columns</p>\n",
              "</div>"
            ],
            "text/plain": [
              "           id   age  hypertension  heart_disease  avg_glucose_level   bmi  \\\n",
              "0      9046.0  67.0           0.0            1.0             91.885  36.6   \n",
              "1     51676.0  61.0           0.0            0.0             91.885  28.1   \n",
              "2     31112.0  80.0           0.0            1.0            105.920  32.5   \n",
              "3     60182.0  49.0           0.0            0.0             91.885  34.4   \n",
              "4      1665.0  79.0           1.0            0.0             91.885  24.0   \n",
              "...       ...   ...           ...            ...                ...   ...   \n",
              "5106  44873.0  81.0           0.0            0.0            125.200  40.0   \n",
              "5107  19723.0  35.0           0.0            0.0             82.990  30.6   \n",
              "5108  37544.0  51.0           0.0            0.0            166.290  25.6   \n",
              "5109  44679.0  44.0           0.0            0.0             85.280  26.2   \n",
              "3116      NaN   NaN           NaN            NaN                NaN   NaN   \n",
              "\n",
              "      stroke  gender_Male  ever_married_Yes  work_type_Never_worked  \\\n",
              "0        1.0          1.0               1.0                     0.0   \n",
              "1        1.0          0.0               1.0                     0.0   \n",
              "2        1.0          1.0               1.0                     0.0   \n",
              "3        1.0          0.0               1.0                     0.0   \n",
              "4        1.0          0.0               1.0                     0.0   \n",
              "...      ...          ...               ...                     ...   \n",
              "5106     0.0          0.0               1.0                     0.0   \n",
              "5107     0.0          1.0               1.0                     0.0   \n",
              "5108     0.0          0.0               1.0                     0.0   \n",
              "5109     0.0          NaN               NaN                     NaN   \n",
              "3116     NaN          0.0               0.0                     0.0   \n",
              "\n",
              "      work_type_Private  work_type_Self-employed  work_type_children  \\\n",
              "0                   1.0                      0.0                 0.0   \n",
              "1                   0.0                      1.0                 0.0   \n",
              "2                   1.0                      0.0                 0.0   \n",
              "3                   1.0                      0.0                 0.0   \n",
              "4                   0.0                      1.0                 0.0   \n",
              "...                 ...                      ...                 ...   \n",
              "5106                0.0                      1.0                 0.0   \n",
              "5107                1.0                      0.0                 0.0   \n",
              "5108                0.0                      0.0                 0.0   \n",
              "5109                NaN                      NaN                 NaN   \n",
              "3116                0.0                      0.0                 1.0   \n",
              "\n",
              "      Residence_type_Urban  smoking_status_never smoked  smoking_status_smokes  \n",
              "0                      1.0                          0.0                    0.0  \n",
              "1                      0.0                          1.0                    0.0  \n",
              "2                      0.0                          1.0                    0.0  \n",
              "3                      1.0                          0.0                    1.0  \n",
              "4                      0.0                          1.0                    0.0  \n",
              "...                    ...                          ...                    ...  \n",
              "5106                   0.0                          1.0                    0.0  \n",
              "5107                   0.0                          0.0                    0.0  \n",
              "5108                   1.0                          1.0                    0.0  \n",
              "5109                   NaN                          NaN                    NaN  \n",
              "3116                   0.0                          1.0                    0.0  \n",
              "\n",
              "[5110 rows x 16 columns]"
            ]
          },
          "execution_count": 31,
          "metadata": {},
          "output_type": "execute_result"
        }
      ],
      "source": [
        "df_final.drop(columns= ['gender', 'ever_married', 'work_type', 'Residence_type', 'smoking_status'], inplace=True)\n",
        "df_final"
      ]
    },
    {
      "cell_type": "code",
      "execution_count": null,
      "metadata": {
        "id": "uheSyT-t7yuY"
      },
      "outputs": [],
      "source": [
        "df_final.reset_index(inplace=True)"
      ]
    },
    {
      "cell_type": "code",
      "execution_count": null,
      "metadata": {
        "id": "mMjz9CoD7yuY"
      },
      "outputs": [],
      "source": [
        "df_final.drop(columns='index', inplace=True)"
      ]
    },
    {
      "cell_type": "code",
      "execution_count": null,
      "metadata": {
        "id": "0WzQwuX87yuY"
      },
      "outputs": [],
      "source": [
        "df_final.drop([5108, 5109], axis=0, inplace=True)"
      ]
    },
    {
      "cell_type": "code",
      "execution_count": null,
      "metadata": {
        "id": "YfM7FEzr7yuZ",
        "outputId": "05340636-65b4-498c-bb3a-90da7582cf08"
      },
      "outputs": [
        {
          "data": {
            "text/html": [
              "<div>\n",
              "<style scoped>\n",
              "    .dataframe tbody tr th:only-of-type {\n",
              "        vertical-align: middle;\n",
              "    }\n",
              "\n",
              "    .dataframe tbody tr th {\n",
              "        vertical-align: top;\n",
              "    }\n",
              "\n",
              "    .dataframe thead th {\n",
              "        text-align: right;\n",
              "    }\n",
              "</style>\n",
              "<table border=\"1\" class=\"dataframe\">\n",
              "  <thead>\n",
              "    <tr style=\"text-align: right;\">\n",
              "      <th></th>\n",
              "      <th>id</th>\n",
              "      <th>age</th>\n",
              "      <th>hypertension</th>\n",
              "      <th>heart_disease</th>\n",
              "      <th>avg_glucose_level</th>\n",
              "      <th>bmi</th>\n",
              "      <th>stroke</th>\n",
              "      <th>gender_Male</th>\n",
              "      <th>ever_married_Yes</th>\n",
              "      <th>work_type_Never_worked</th>\n",
              "      <th>work_type_Private</th>\n",
              "      <th>work_type_Self-employed</th>\n",
              "      <th>work_type_children</th>\n",
              "      <th>Residence_type_Urban</th>\n",
              "      <th>smoking_status_never smoked</th>\n",
              "      <th>smoking_status_smokes</th>\n",
              "    </tr>\n",
              "  </thead>\n",
              "  <tbody>\n",
              "    <tr>\n",
              "      <th>0</th>\n",
              "      <td>9046.0</td>\n",
              "      <td>67.0</td>\n",
              "      <td>0.0</td>\n",
              "      <td>1.0</td>\n",
              "      <td>91.885</td>\n",
              "      <td>36.6</td>\n",
              "      <td>1.0</td>\n",
              "      <td>1.0</td>\n",
              "      <td>1.0</td>\n",
              "      <td>0.0</td>\n",
              "      <td>1.0</td>\n",
              "      <td>0.0</td>\n",
              "      <td>0.0</td>\n",
              "      <td>1.0</td>\n",
              "      <td>0.0</td>\n",
              "      <td>0.0</td>\n",
              "    </tr>\n",
              "    <tr>\n",
              "      <th>1</th>\n",
              "      <td>51676.0</td>\n",
              "      <td>61.0</td>\n",
              "      <td>0.0</td>\n",
              "      <td>0.0</td>\n",
              "      <td>91.885</td>\n",
              "      <td>28.1</td>\n",
              "      <td>1.0</td>\n",
              "      <td>0.0</td>\n",
              "      <td>1.0</td>\n",
              "      <td>0.0</td>\n",
              "      <td>0.0</td>\n",
              "      <td>1.0</td>\n",
              "      <td>0.0</td>\n",
              "      <td>0.0</td>\n",
              "      <td>1.0</td>\n",
              "      <td>0.0</td>\n",
              "    </tr>\n",
              "    <tr>\n",
              "      <th>2</th>\n",
              "      <td>31112.0</td>\n",
              "      <td>80.0</td>\n",
              "      <td>0.0</td>\n",
              "      <td>1.0</td>\n",
              "      <td>105.920</td>\n",
              "      <td>32.5</td>\n",
              "      <td>1.0</td>\n",
              "      <td>1.0</td>\n",
              "      <td>1.0</td>\n",
              "      <td>0.0</td>\n",
              "      <td>1.0</td>\n",
              "      <td>0.0</td>\n",
              "      <td>0.0</td>\n",
              "      <td>0.0</td>\n",
              "      <td>1.0</td>\n",
              "      <td>0.0</td>\n",
              "    </tr>\n",
              "    <tr>\n",
              "      <th>3</th>\n",
              "      <td>60182.0</td>\n",
              "      <td>49.0</td>\n",
              "      <td>0.0</td>\n",
              "      <td>0.0</td>\n",
              "      <td>91.885</td>\n",
              "      <td>34.4</td>\n",
              "      <td>1.0</td>\n",
              "      <td>0.0</td>\n",
              "      <td>1.0</td>\n",
              "      <td>0.0</td>\n",
              "      <td>1.0</td>\n",
              "      <td>0.0</td>\n",
              "      <td>0.0</td>\n",
              "      <td>1.0</td>\n",
              "      <td>0.0</td>\n",
              "      <td>1.0</td>\n",
              "    </tr>\n",
              "    <tr>\n",
              "      <th>4</th>\n",
              "      <td>1665.0</td>\n",
              "      <td>79.0</td>\n",
              "      <td>1.0</td>\n",
              "      <td>0.0</td>\n",
              "      <td>91.885</td>\n",
              "      <td>24.0</td>\n",
              "      <td>1.0</td>\n",
              "      <td>0.0</td>\n",
              "      <td>1.0</td>\n",
              "      <td>0.0</td>\n",
              "      <td>0.0</td>\n",
              "      <td>1.0</td>\n",
              "      <td>0.0</td>\n",
              "      <td>0.0</td>\n",
              "      <td>1.0</td>\n",
              "      <td>0.0</td>\n",
              "    </tr>\n",
              "    <tr>\n",
              "      <th>...</th>\n",
              "      <td>...</td>\n",
              "      <td>...</td>\n",
              "      <td>...</td>\n",
              "      <td>...</td>\n",
              "      <td>...</td>\n",
              "      <td>...</td>\n",
              "      <td>...</td>\n",
              "      <td>...</td>\n",
              "      <td>...</td>\n",
              "      <td>...</td>\n",
              "      <td>...</td>\n",
              "      <td>...</td>\n",
              "      <td>...</td>\n",
              "      <td>...</td>\n",
              "      <td>...</td>\n",
              "      <td>...</td>\n",
              "    </tr>\n",
              "    <tr>\n",
              "      <th>5103</th>\n",
              "      <td>14180.0</td>\n",
              "      <td>13.0</td>\n",
              "      <td>0.0</td>\n",
              "      <td>0.0</td>\n",
              "      <td>103.080</td>\n",
              "      <td>18.6</td>\n",
              "      <td>0.0</td>\n",
              "      <td>0.0</td>\n",
              "      <td>1.0</td>\n",
              "      <td>0.0</td>\n",
              "      <td>1.0</td>\n",
              "      <td>0.0</td>\n",
              "      <td>0.0</td>\n",
              "      <td>1.0</td>\n",
              "      <td>1.0</td>\n",
              "      <td>0.0</td>\n",
              "    </tr>\n",
              "    <tr>\n",
              "      <th>5104</th>\n",
              "      <td>18234.0</td>\n",
              "      <td>80.0</td>\n",
              "      <td>1.0</td>\n",
              "      <td>0.0</td>\n",
              "      <td>83.750</td>\n",
              "      <td>28.1</td>\n",
              "      <td>0.0</td>\n",
              "      <td>0.0</td>\n",
              "      <td>1.0</td>\n",
              "      <td>0.0</td>\n",
              "      <td>0.0</td>\n",
              "      <td>1.0</td>\n",
              "      <td>0.0</td>\n",
              "      <td>1.0</td>\n",
              "      <td>1.0</td>\n",
              "      <td>0.0</td>\n",
              "    </tr>\n",
              "    <tr>\n",
              "      <th>5105</th>\n",
              "      <td>44873.0</td>\n",
              "      <td>81.0</td>\n",
              "      <td>0.0</td>\n",
              "      <td>0.0</td>\n",
              "      <td>125.200</td>\n",
              "      <td>40.0</td>\n",
              "      <td>0.0</td>\n",
              "      <td>0.0</td>\n",
              "      <td>1.0</td>\n",
              "      <td>0.0</td>\n",
              "      <td>0.0</td>\n",
              "      <td>1.0</td>\n",
              "      <td>0.0</td>\n",
              "      <td>0.0</td>\n",
              "      <td>1.0</td>\n",
              "      <td>0.0</td>\n",
              "    </tr>\n",
              "    <tr>\n",
              "      <th>5106</th>\n",
              "      <td>19723.0</td>\n",
              "      <td>35.0</td>\n",
              "      <td>0.0</td>\n",
              "      <td>0.0</td>\n",
              "      <td>82.990</td>\n",
              "      <td>30.6</td>\n",
              "      <td>0.0</td>\n",
              "      <td>1.0</td>\n",
              "      <td>1.0</td>\n",
              "      <td>0.0</td>\n",
              "      <td>1.0</td>\n",
              "      <td>0.0</td>\n",
              "      <td>0.0</td>\n",
              "      <td>0.0</td>\n",
              "      <td>0.0</td>\n",
              "      <td>0.0</td>\n",
              "    </tr>\n",
              "    <tr>\n",
              "      <th>5107</th>\n",
              "      <td>37544.0</td>\n",
              "      <td>51.0</td>\n",
              "      <td>0.0</td>\n",
              "      <td>0.0</td>\n",
              "      <td>166.290</td>\n",
              "      <td>25.6</td>\n",
              "      <td>0.0</td>\n",
              "      <td>0.0</td>\n",
              "      <td>1.0</td>\n",
              "      <td>0.0</td>\n",
              "      <td>0.0</td>\n",
              "      <td>0.0</td>\n",
              "      <td>0.0</td>\n",
              "      <td>1.0</td>\n",
              "      <td>1.0</td>\n",
              "      <td>0.0</td>\n",
              "    </tr>\n",
              "  </tbody>\n",
              "</table>\n",
              "<p>5108 rows × 16 columns</p>\n",
              "</div>"
            ],
            "text/plain": [
              "           id   age  hypertension  heart_disease  avg_glucose_level   bmi  \\\n",
              "0      9046.0  67.0           0.0            1.0             91.885  36.6   \n",
              "1     51676.0  61.0           0.0            0.0             91.885  28.1   \n",
              "2     31112.0  80.0           0.0            1.0            105.920  32.5   \n",
              "3     60182.0  49.0           0.0            0.0             91.885  34.4   \n",
              "4      1665.0  79.0           1.0            0.0             91.885  24.0   \n",
              "...       ...   ...           ...            ...                ...   ...   \n",
              "5103  14180.0  13.0           0.0            0.0            103.080  18.6   \n",
              "5104  18234.0  80.0           1.0            0.0             83.750  28.1   \n",
              "5105  44873.0  81.0           0.0            0.0            125.200  40.0   \n",
              "5106  19723.0  35.0           0.0            0.0             82.990  30.6   \n",
              "5107  37544.0  51.0           0.0            0.0            166.290  25.6   \n",
              "\n",
              "      stroke  gender_Male  ever_married_Yes  work_type_Never_worked  \\\n",
              "0        1.0          1.0               1.0                     0.0   \n",
              "1        1.0          0.0               1.0                     0.0   \n",
              "2        1.0          1.0               1.0                     0.0   \n",
              "3        1.0          0.0               1.0                     0.0   \n",
              "4        1.0          0.0               1.0                     0.0   \n",
              "...      ...          ...               ...                     ...   \n",
              "5103     0.0          0.0               1.0                     0.0   \n",
              "5104     0.0          0.0               1.0                     0.0   \n",
              "5105     0.0          0.0               1.0                     0.0   \n",
              "5106     0.0          1.0               1.0                     0.0   \n",
              "5107     0.0          0.0               1.0                     0.0   \n",
              "\n",
              "      work_type_Private  work_type_Self-employed  work_type_children  \\\n",
              "0                   1.0                      0.0                 0.0   \n",
              "1                   0.0                      1.0                 0.0   \n",
              "2                   1.0                      0.0                 0.0   \n",
              "3                   1.0                      0.0                 0.0   \n",
              "4                   0.0                      1.0                 0.0   \n",
              "...                 ...                      ...                 ...   \n",
              "5103                1.0                      0.0                 0.0   \n",
              "5104                0.0                      1.0                 0.0   \n",
              "5105                0.0                      1.0                 0.0   \n",
              "5106                1.0                      0.0                 0.0   \n",
              "5107                0.0                      0.0                 0.0   \n",
              "\n",
              "      Residence_type_Urban  smoking_status_never smoked  smoking_status_smokes  \n",
              "0                      1.0                          0.0                    0.0  \n",
              "1                      0.0                          1.0                    0.0  \n",
              "2                      0.0                          1.0                    0.0  \n",
              "3                      1.0                          0.0                    1.0  \n",
              "4                      0.0                          1.0                    0.0  \n",
              "...                    ...                          ...                    ...  \n",
              "5103                   1.0                          1.0                    0.0  \n",
              "5104                   1.0                          1.0                    0.0  \n",
              "5105                   0.0                          1.0                    0.0  \n",
              "5106                   0.0                          0.0                    0.0  \n",
              "5107                   1.0                          1.0                    0.0  \n",
              "\n",
              "[5108 rows x 16 columns]"
            ]
          },
          "execution_count": 35,
          "metadata": {},
          "output_type": "execute_result"
        }
      ],
      "source": [
        "df_final"
      ]
    },
    {
      "cell_type": "markdown",
      "metadata": {
        "id": "fnb2T7Qa7yuZ"
      },
      "source": [
        "# Split input features and target variable"
      ]
    },
    {
      "cell_type": "code",
      "execution_count": null,
      "metadata": {
        "id": "NMxfZft27yuZ"
      },
      "outputs": [],
      "source": [
        "X = df_final.drop(columns='stroke')"
      ]
    },
    {
      "cell_type": "code",
      "execution_count": null,
      "metadata": {
        "id": "GUhqHYZH7yuZ"
      },
      "outputs": [],
      "source": [
        "y = df_final.stroke"
      ]
    },
    {
      "cell_type": "markdown",
      "metadata": {
        "id": "_P60KMmp7yua"
      },
      "source": [
        "# Train Test Split"
      ]
    },
    {
      "cell_type": "code",
      "execution_count": null,
      "metadata": {
        "id": "k1YGZyeJ7yua"
      },
      "outputs": [],
      "source": [
        "from sklearn.model_selection import train_test_split\n",
        "x_train, x_test, y_train, y_test = train_test_split(X, y, test_size=0.2, random_state=0, stratify=y)"
      ]
    },
    {
      "cell_type": "markdown",
      "metadata": {
        "id": "M8YeX4wp7yua"
      },
      "source": [
        "## Handling Imbalanced data"
      ]
    },
    {
      "cell_type": "code",
      "execution_count": null,
      "metadata": {
        "id": "YQu5AJ257yua"
      },
      "outputs": [],
      "source": [
        "from imblearn.over_sampling import SMOTE\n",
        "smote = SMOTE()\n",
        "x_train_smote, y_train_smote = smote.fit_resample(x_train, y_train)"
      ]
    },
    {
      "cell_type": "markdown",
      "metadata": {
        "id": "YfDapuvs7yua"
      },
      "source": [
        "## Feature Scaling"
      ]
    },
    {
      "cell_type": "code",
      "execution_count": null,
      "metadata": {
        "id": "1oauThOM7yua"
      },
      "outputs": [],
      "source": [
        "from sklearn.preprocessing import StandardScaler\n",
        "scaler = StandardScaler()\n",
        "x_train_scaled = scaler.fit_transform(x_train_smote)\n",
        "x_test_scaled = scaler.transform(x_test)"
      ]
    },
    {
      "cell_type": "code",
      "execution_count": null,
      "metadata": {
        "id": "5q1DSEUI7yua",
        "outputId": "d3ec0153-7131-4a34-ed64-f46924f83e34"
      },
      "outputs": [
        {
          "data": {
            "text/html": [
              "<div>\n",
              "<style scoped>\n",
              "    .dataframe tbody tr th:only-of-type {\n",
              "        vertical-align: middle;\n",
              "    }\n",
              "\n",
              "    .dataframe tbody tr th {\n",
              "        vertical-align: top;\n",
              "    }\n",
              "\n",
              "    .dataframe thead th {\n",
              "        text-align: right;\n",
              "    }\n",
              "</style>\n",
              "<table border=\"1\" class=\"dataframe\">\n",
              "  <thead>\n",
              "    <tr style=\"text-align: right;\">\n",
              "      <th></th>\n",
              "      <th>id</th>\n",
              "      <th>age</th>\n",
              "      <th>hypertension</th>\n",
              "      <th>heart_disease</th>\n",
              "      <th>avg_glucose_level</th>\n",
              "      <th>bmi</th>\n",
              "      <th>gender_Male</th>\n",
              "      <th>ever_married_Yes</th>\n",
              "      <th>work_type_Never_worked</th>\n",
              "      <th>work_type_Private</th>\n",
              "      <th>work_type_Self-employed</th>\n",
              "      <th>work_type_children</th>\n",
              "      <th>Residence_type_Urban</th>\n",
              "      <th>smoking_status_never smoked</th>\n",
              "      <th>smoking_status_smokes</th>\n",
              "    </tr>\n",
              "  </thead>\n",
              "  <tbody>\n",
              "    <tr>\n",
              "      <th>0</th>\n",
              "      <td>-1.181459</td>\n",
              "      <td>0.294759</td>\n",
              "      <td>-0.534319</td>\n",
              "      <td>-0.415936</td>\n",
              "      <td>-0.509087</td>\n",
              "      <td>0.193857</td>\n",
              "      <td>-0.955452</td>\n",
              "      <td>0.580406</td>\n",
              "      <td>-0.048175</td>\n",
              "      <td>0.916106</td>\n",
              "      <td>-0.552891</td>\n",
              "      <td>-0.289766</td>\n",
              "      <td>1.026208</td>\n",
              "      <td>-1.389598</td>\n",
              "      <td>2.551687</td>\n",
              "    </tr>\n",
              "    <tr>\n",
              "      <th>1</th>\n",
              "      <td>1.148102</td>\n",
              "      <td>-0.998243</td>\n",
              "      <td>-0.534319</td>\n",
              "      <td>-0.415936</td>\n",
              "      <td>-0.688929</td>\n",
              "      <td>2.671526</td>\n",
              "      <td>-0.955452</td>\n",
              "      <td>0.580406</td>\n",
              "      <td>-0.048175</td>\n",
              "      <td>0.916106</td>\n",
              "      <td>-0.552891</td>\n",
              "      <td>-0.289766</td>\n",
              "      <td>1.026208</td>\n",
              "      <td>-1.389598</td>\n",
              "      <td>2.551687</td>\n",
              "    </tr>\n",
              "    <tr>\n",
              "      <th>2</th>\n",
              "      <td>1.599364</td>\n",
              "      <td>-0.536457</td>\n",
              "      <td>-0.534319</td>\n",
              "      <td>-0.415936</td>\n",
              "      <td>-0.113229</td>\n",
              "      <td>-0.955207</td>\n",
              "      <td>1.252328</td>\n",
              "      <td>0.580406</td>\n",
              "      <td>-0.048175</td>\n",
              "      <td>-1.313968</td>\n",
              "      <td>-0.552891</td>\n",
              "      <td>-0.289766</td>\n",
              "      <td>1.026208</td>\n",
              "      <td>-1.389598</td>\n",
              "      <td>-0.472742</td>\n",
              "    </tr>\n",
              "    <tr>\n",
              "      <th>3</th>\n",
              "      <td>1.079138</td>\n",
              "      <td>-0.351742</td>\n",
              "      <td>-0.534319</td>\n",
              "      <td>-0.415936</td>\n",
              "      <td>1.552733</td>\n",
              "      <td>-0.883391</td>\n",
              "      <td>-0.955452</td>\n",
              "      <td>0.580406</td>\n",
              "      <td>-0.048175</td>\n",
              "      <td>-1.313968</td>\n",
              "      <td>2.188293</td>\n",
              "      <td>-0.289766</td>\n",
              "      <td>1.026208</td>\n",
              "      <td>0.862274</td>\n",
              "      <td>-0.472742</td>\n",
              "    </tr>\n",
              "    <tr>\n",
              "      <th>4</th>\n",
              "      <td>-1.659735</td>\n",
              "      <td>-0.998243</td>\n",
              "      <td>-0.534319</td>\n",
              "      <td>-0.415936</td>\n",
              "      <td>1.633229</td>\n",
              "      <td>-1.098840</td>\n",
              "      <td>-0.955452</td>\n",
              "      <td>0.580406</td>\n",
              "      <td>-0.048175</td>\n",
              "      <td>0.916106</td>\n",
              "      <td>-0.552891</td>\n",
              "      <td>-0.289766</td>\n",
              "      <td>-1.169215</td>\n",
              "      <td>0.862274</td>\n",
              "      <td>-0.472742</td>\n",
              "    </tr>\n",
              "    <tr>\n",
              "      <th>...</th>\n",
              "      <td>...</td>\n",
              "      <td>...</td>\n",
              "      <td>...</td>\n",
              "      <td>...</td>\n",
              "      <td>...</td>\n",
              "      <td>...</td>\n",
              "      <td>...</td>\n",
              "      <td>...</td>\n",
              "      <td>...</td>\n",
              "      <td>...</td>\n",
              "      <td>...</td>\n",
              "      <td>...</td>\n",
              "      <td>...</td>\n",
              "      <td>...</td>\n",
              "      <td>...</td>\n",
              "    </tr>\n",
              "    <tr>\n",
              "      <th>7769</th>\n",
              "      <td>1.434181</td>\n",
              "      <td>1.170140</td>\n",
              "      <td>2.255698</td>\n",
              "      <td>3.123863</td>\n",
              "      <td>-0.003439</td>\n",
              "      <td>0.477209</td>\n",
              "      <td>1.156086</td>\n",
              "      <td>0.472818</td>\n",
              "      <td>-0.048175</td>\n",
              "      <td>0.916106</td>\n",
              "      <td>-0.552891</td>\n",
              "      <td>-0.289766</td>\n",
              "      <td>1.026208</td>\n",
              "      <td>-1.389598</td>\n",
              "      <td>-0.340900</td>\n",
              "    </tr>\n",
              "    <tr>\n",
              "      <th>7770</th>\n",
              "      <td>1.532078</td>\n",
              "      <td>1.020918</td>\n",
              "      <td>-0.534319</td>\n",
              "      <td>-0.415936</td>\n",
              "      <td>-1.395650</td>\n",
              "      <td>-0.262736</td>\n",
              "      <td>-0.955452</td>\n",
              "      <td>0.580406</td>\n",
              "      <td>-0.048175</td>\n",
              "      <td>-0.909775</td>\n",
              "      <td>-0.552891</td>\n",
              "      <td>-0.289766</td>\n",
              "      <td>-0.771302</td>\n",
              "      <td>-0.981454</td>\n",
              "      <td>-0.472742</td>\n",
              "    </tr>\n",
              "    <tr>\n",
              "      <th>7771</th>\n",
              "      <td>1.155634</td>\n",
              "      <td>0.199800</td>\n",
              "      <td>-0.534319</td>\n",
              "      <td>-0.415936</td>\n",
              "      <td>-1.523831</td>\n",
              "      <td>1.063469</td>\n",
              "      <td>-0.955452</td>\n",
              "      <td>0.580406</td>\n",
              "      <td>-0.048175</td>\n",
              "      <td>0.916106</td>\n",
              "      <td>-0.552891</td>\n",
              "      <td>-0.289766</td>\n",
              "      <td>1.026208</td>\n",
              "      <td>0.862274</td>\n",
              "      <td>-0.472742</td>\n",
              "    </tr>\n",
              "    <tr>\n",
              "      <th>7772</th>\n",
              "      <td>-0.804466</td>\n",
              "      <td>1.065101</td>\n",
              "      <td>2.382865</td>\n",
              "      <td>0.774695</td>\n",
              "      <td>-0.003439</td>\n",
              "      <td>0.526016</td>\n",
              "      <td>1.252328</td>\n",
              "      <td>0.580406</td>\n",
              "      <td>-0.048175</td>\n",
              "      <td>0.916106</td>\n",
              "      <td>-0.552891</td>\n",
              "      <td>-0.289766</td>\n",
              "      <td>-0.430772</td>\n",
              "      <td>0.104845</td>\n",
              "      <td>0.544542</td>\n",
              "    </tr>\n",
              "    <tr>\n",
              "      <th>7773</th>\n",
              "      <td>0.479918</td>\n",
              "      <td>0.992036</td>\n",
              "      <td>1.069480</td>\n",
              "      <td>-0.415936</td>\n",
              "      <td>0.225247</td>\n",
              "      <td>0.196417</td>\n",
              "      <td>-0.955452</td>\n",
              "      <td>0.580406</td>\n",
              "      <td>-0.048175</td>\n",
              "      <td>-1.313968</td>\n",
              "      <td>0.954147</td>\n",
              "      <td>-0.289766</td>\n",
              "      <td>1.026208</td>\n",
              "      <td>0.862274</td>\n",
              "      <td>-0.472742</td>\n",
              "    </tr>\n",
              "  </tbody>\n",
              "</table>\n",
              "<p>7774 rows × 15 columns</p>\n",
              "</div>"
            ],
            "text/plain": [
              "            id       age  hypertension  heart_disease  avg_glucose_level  \\\n",
              "0    -1.181459  0.294759     -0.534319      -0.415936          -0.509087   \n",
              "1     1.148102 -0.998243     -0.534319      -0.415936          -0.688929   \n",
              "2     1.599364 -0.536457     -0.534319      -0.415936          -0.113229   \n",
              "3     1.079138 -0.351742     -0.534319      -0.415936           1.552733   \n",
              "4    -1.659735 -0.998243     -0.534319      -0.415936           1.633229   \n",
              "...        ...       ...           ...            ...                ...   \n",
              "7769  1.434181  1.170140      2.255698       3.123863          -0.003439   \n",
              "7770  1.532078  1.020918     -0.534319      -0.415936          -1.395650   \n",
              "7771  1.155634  0.199800     -0.534319      -0.415936          -1.523831   \n",
              "7772 -0.804466  1.065101      2.382865       0.774695          -0.003439   \n",
              "7773  0.479918  0.992036      1.069480      -0.415936           0.225247   \n",
              "\n",
              "           bmi  gender_Male  ever_married_Yes  work_type_Never_worked  \\\n",
              "0     0.193857    -0.955452          0.580406               -0.048175   \n",
              "1     2.671526    -0.955452          0.580406               -0.048175   \n",
              "2    -0.955207     1.252328          0.580406               -0.048175   \n",
              "3    -0.883391    -0.955452          0.580406               -0.048175   \n",
              "4    -1.098840    -0.955452          0.580406               -0.048175   \n",
              "...        ...          ...               ...                     ...   \n",
              "7769  0.477209     1.156086          0.472818               -0.048175   \n",
              "7770 -0.262736    -0.955452          0.580406               -0.048175   \n",
              "7771  1.063469    -0.955452          0.580406               -0.048175   \n",
              "7772  0.526016     1.252328          0.580406               -0.048175   \n",
              "7773  0.196417    -0.955452          0.580406               -0.048175   \n",
              "\n",
              "      work_type_Private  work_type_Self-employed  work_type_children  \\\n",
              "0              0.916106                -0.552891           -0.289766   \n",
              "1              0.916106                -0.552891           -0.289766   \n",
              "2             -1.313968                -0.552891           -0.289766   \n",
              "3             -1.313968                 2.188293           -0.289766   \n",
              "4              0.916106                -0.552891           -0.289766   \n",
              "...                 ...                      ...                 ...   \n",
              "7769           0.916106                -0.552891           -0.289766   \n",
              "7770          -0.909775                -0.552891           -0.289766   \n",
              "7771           0.916106                -0.552891           -0.289766   \n",
              "7772           0.916106                -0.552891           -0.289766   \n",
              "7773          -1.313968                 0.954147           -0.289766   \n",
              "\n",
              "      Residence_type_Urban  smoking_status_never smoked  smoking_status_smokes  \n",
              "0                 1.026208                    -1.389598               2.551687  \n",
              "1                 1.026208                    -1.389598               2.551687  \n",
              "2                 1.026208                    -1.389598              -0.472742  \n",
              "3                 1.026208                     0.862274              -0.472742  \n",
              "4                -1.169215                     0.862274              -0.472742  \n",
              "...                    ...                          ...                    ...  \n",
              "7769              1.026208                    -1.389598              -0.340900  \n",
              "7770             -0.771302                    -0.981454              -0.472742  \n",
              "7771              1.026208                     0.862274              -0.472742  \n",
              "7772             -0.430772                     0.104845               0.544542  \n",
              "7773              1.026208                     0.862274              -0.472742  \n",
              "\n",
              "[7774 rows x 15 columns]"
            ]
          },
          "execution_count": 46,
          "metadata": {},
          "output_type": "execute_result"
        }
      ],
      "source": [
        "x_train_scaled = pd.DataFrame(x_train_scaled, columns=scaler.get_feature_names_out())\n",
        "x_train_scaled"
      ]
    },
    {
      "cell_type": "code",
      "execution_count": null,
      "metadata": {
        "id": "4wBObhAL7yub",
        "outputId": "91fb7ae9-feb6-40e2-ce6a-fde6846dd1a0"
      },
      "outputs": [
        {
          "data": {
            "text/html": [
              "<div>\n",
              "<style scoped>\n",
              "    .dataframe tbody tr th:only-of-type {\n",
              "        vertical-align: middle;\n",
              "    }\n",
              "\n",
              "    .dataframe tbody tr th {\n",
              "        vertical-align: top;\n",
              "    }\n",
              "\n",
              "    .dataframe thead th {\n",
              "        text-align: right;\n",
              "    }\n",
              "</style>\n",
              "<table border=\"1\" class=\"dataframe\">\n",
              "  <thead>\n",
              "    <tr style=\"text-align: right;\">\n",
              "      <th></th>\n",
              "      <th>id</th>\n",
              "      <th>age</th>\n",
              "      <th>hypertension</th>\n",
              "      <th>heart_disease</th>\n",
              "      <th>avg_glucose_level</th>\n",
              "      <th>bmi</th>\n",
              "      <th>gender_Male</th>\n",
              "      <th>ever_married_Yes</th>\n",
              "      <th>work_type_Never_worked</th>\n",
              "      <th>work_type_Private</th>\n",
              "      <th>work_type_Self-employed</th>\n",
              "      <th>work_type_children</th>\n",
              "      <th>Residence_type_Urban</th>\n",
              "      <th>smoking_status_never smoked</th>\n",
              "      <th>smoking_status_smokes</th>\n",
              "    </tr>\n",
              "  </thead>\n",
              "  <tbody>\n",
              "    <tr>\n",
              "      <th>0</th>\n",
              "      <td>0.910278</td>\n",
              "      <td>-2.429781</td>\n",
              "      <td>-0.534319</td>\n",
              "      <td>-0.415936</td>\n",
              "      <td>-0.274221</td>\n",
              "      <td>-1.942684</td>\n",
              "      <td>1.252328</td>\n",
              "      <td>-1.887649</td>\n",
              "      <td>-0.048175</td>\n",
              "      <td>-1.313968</td>\n",
              "      <td>-0.552891</td>\n",
              "      <td>3.528453</td>\n",
              "      <td>-1.169215</td>\n",
              "      <td>0.862274</td>\n",
              "      <td>-0.472742</td>\n",
              "    </tr>\n",
              "    <tr>\n",
              "      <th>1</th>\n",
              "      <td>0.302280</td>\n",
              "      <td>-0.813529</td>\n",
              "      <td>-0.534319</td>\n",
              "      <td>-0.415936</td>\n",
              "      <td>-0.598753</td>\n",
              "      <td>0.373398</td>\n",
              "      <td>-0.955452</td>\n",
              "      <td>-1.887649</td>\n",
              "      <td>-0.048175</td>\n",
              "      <td>-1.313968</td>\n",
              "      <td>-0.552891</td>\n",
              "      <td>3.528453</td>\n",
              "      <td>-1.169215</td>\n",
              "      <td>0.862274</td>\n",
              "      <td>-0.472742</td>\n",
              "    </tr>\n",
              "    <tr>\n",
              "      <th>2</th>\n",
              "      <td>-0.621035</td>\n",
              "      <td>0.017687</td>\n",
              "      <td>-0.534319</td>\n",
              "      <td>-0.415936</td>\n",
              "      <td>-0.273712</td>\n",
              "      <td>0.965884</td>\n",
              "      <td>-0.955452</td>\n",
              "      <td>0.580406</td>\n",
              "      <td>-0.048175</td>\n",
              "      <td>0.916106</td>\n",
              "      <td>-0.552891</td>\n",
              "      <td>-0.289766</td>\n",
              "      <td>1.026208</td>\n",
              "      <td>0.862274</td>\n",
              "      <td>-0.472742</td>\n",
              "    </tr>\n",
              "    <tr>\n",
              "      <th>3</th>\n",
              "      <td>-1.349858</td>\n",
              "      <td>-1.644744</td>\n",
              "      <td>-0.534319</td>\n",
              "      <td>-0.415936</td>\n",
              "      <td>0.164431</td>\n",
              "      <td>-0.703849</td>\n",
              "      <td>-0.955452</td>\n",
              "      <td>0.580406</td>\n",
              "      <td>-0.048175</td>\n",
              "      <td>0.916106</td>\n",
              "      <td>-0.552891</td>\n",
              "      <td>-0.289766</td>\n",
              "      <td>1.026208</td>\n",
              "      <td>0.862274</td>\n",
              "      <td>-0.472742</td>\n",
              "    </tr>\n",
              "    <tr>\n",
              "      <th>4</th>\n",
              "      <td>-1.180076</td>\n",
              "      <td>-1.690923</td>\n",
              "      <td>-0.534319</td>\n",
              "      <td>-0.415936</td>\n",
              "      <td>0.743187</td>\n",
              "      <td>-0.326813</td>\n",
              "      <td>-0.955452</td>\n",
              "      <td>0.580406</td>\n",
              "      <td>-0.048175</td>\n",
              "      <td>-1.313968</td>\n",
              "      <td>2.188293</td>\n",
              "      <td>-0.289766</td>\n",
              "      <td>1.026208</td>\n",
              "      <td>-1.389598</td>\n",
              "      <td>-0.472742</td>\n",
              "    </tr>\n",
              "    <tr>\n",
              "      <th>...</th>\n",
              "      <td>...</td>\n",
              "      <td>...</td>\n",
              "      <td>...</td>\n",
              "      <td>...</td>\n",
              "      <td>...</td>\n",
              "      <td>...</td>\n",
              "      <td>...</td>\n",
              "      <td>...</td>\n",
              "      <td>...</td>\n",
              "      <td>...</td>\n",
              "      <td>...</td>\n",
              "      <td>...</td>\n",
              "      <td>...</td>\n",
              "      <td>...</td>\n",
              "      <td>...</td>\n",
              "    </tr>\n",
              "    <tr>\n",
              "      <th>1017</th>\n",
              "      <td>1.037373</td>\n",
              "      <td>-0.674993</td>\n",
              "      <td>-0.534319</td>\n",
              "      <td>-0.415936</td>\n",
              "      <td>-1.578971</td>\n",
              "      <td>-3.109702</td>\n",
              "      <td>1.252328</td>\n",
              "      <td>0.580406</td>\n",
              "      <td>-0.048175</td>\n",
              "      <td>0.916106</td>\n",
              "      <td>-0.552891</td>\n",
              "      <td>-0.289766</td>\n",
              "      <td>-1.169215</td>\n",
              "      <td>0.862274</td>\n",
              "      <td>-0.472742</td>\n",
              "    </tr>\n",
              "    <tr>\n",
              "      <th>1018</th>\n",
              "      <td>-1.507194</td>\n",
              "      <td>-1.090601</td>\n",
              "      <td>-0.534319</td>\n",
              "      <td>-0.415936</td>\n",
              "      <td>-0.084699</td>\n",
              "      <td>1.773820</td>\n",
              "      <td>1.252328</td>\n",
              "      <td>-1.887649</td>\n",
              "      <td>-0.048175</td>\n",
              "      <td>-1.313968</td>\n",
              "      <td>-0.552891</td>\n",
              "      <td>3.528453</td>\n",
              "      <td>1.026208</td>\n",
              "      <td>0.862274</td>\n",
              "      <td>-0.472742</td>\n",
              "    </tr>\n",
              "    <tr>\n",
              "      <th>1019</th>\n",
              "      <td>-0.701063</td>\n",
              "      <td>-0.120849</td>\n",
              "      <td>2.382865</td>\n",
              "      <td>-0.415936</td>\n",
              "      <td>1.256732</td>\n",
              "      <td>-0.129317</td>\n",
              "      <td>-0.955452</td>\n",
              "      <td>0.580406</td>\n",
              "      <td>-0.048175</td>\n",
              "      <td>0.916106</td>\n",
              "      <td>-0.552891</td>\n",
              "      <td>-0.289766</td>\n",
              "      <td>1.026208</td>\n",
              "      <td>0.862274</td>\n",
              "      <td>-0.472742</td>\n",
              "    </tr>\n",
              "    <tr>\n",
              "      <th>1020</th>\n",
              "      <td>-0.929022</td>\n",
              "      <td>-2.435323</td>\n",
              "      <td>-0.534319</td>\n",
              "      <td>-0.415936</td>\n",
              "      <td>0.447696</td>\n",
              "      <td>-1.834959</td>\n",
              "      <td>-0.955452</td>\n",
              "      <td>-1.887649</td>\n",
              "      <td>-0.048175</td>\n",
              "      <td>0.916106</td>\n",
              "      <td>-0.552891</td>\n",
              "      <td>-0.289766</td>\n",
              "      <td>1.026208</td>\n",
              "      <td>-1.389598</td>\n",
              "      <td>2.551687</td>\n",
              "    </tr>\n",
              "    <tr>\n",
              "      <th>1021</th>\n",
              "      <td>1.145198</td>\n",
              "      <td>-0.674993</td>\n",
              "      <td>-0.534319</td>\n",
              "      <td>-0.415936</td>\n",
              "      <td>-0.888641</td>\n",
              "      <td>1.396783</td>\n",
              "      <td>-0.955452</td>\n",
              "      <td>0.580406</td>\n",
              "      <td>-0.048175</td>\n",
              "      <td>0.916106</td>\n",
              "      <td>-0.552891</td>\n",
              "      <td>-0.289766</td>\n",
              "      <td>-1.169215</td>\n",
              "      <td>0.862274</td>\n",
              "      <td>-0.472742</td>\n",
              "    </tr>\n",
              "  </tbody>\n",
              "</table>\n",
              "<p>1022 rows × 15 columns</p>\n",
              "</div>"
            ],
            "text/plain": [
              "            id       age  hypertension  heart_disease  avg_glucose_level  \\\n",
              "0     0.910278 -2.429781     -0.534319      -0.415936          -0.274221   \n",
              "1     0.302280 -0.813529     -0.534319      -0.415936          -0.598753   \n",
              "2    -0.621035  0.017687     -0.534319      -0.415936          -0.273712   \n",
              "3    -1.349858 -1.644744     -0.534319      -0.415936           0.164431   \n",
              "4    -1.180076 -1.690923     -0.534319      -0.415936           0.743187   \n",
              "...        ...       ...           ...            ...                ...   \n",
              "1017  1.037373 -0.674993     -0.534319      -0.415936          -1.578971   \n",
              "1018 -1.507194 -1.090601     -0.534319      -0.415936          -0.084699   \n",
              "1019 -0.701063 -0.120849      2.382865      -0.415936           1.256732   \n",
              "1020 -0.929022 -2.435323     -0.534319      -0.415936           0.447696   \n",
              "1021  1.145198 -0.674993     -0.534319      -0.415936          -0.888641   \n",
              "\n",
              "           bmi  gender_Male  ever_married_Yes  work_type_Never_worked  \\\n",
              "0    -1.942684     1.252328         -1.887649               -0.048175   \n",
              "1     0.373398    -0.955452         -1.887649               -0.048175   \n",
              "2     0.965884    -0.955452          0.580406               -0.048175   \n",
              "3    -0.703849    -0.955452          0.580406               -0.048175   \n",
              "4    -0.326813    -0.955452          0.580406               -0.048175   \n",
              "...        ...          ...               ...                     ...   \n",
              "1017 -3.109702     1.252328          0.580406               -0.048175   \n",
              "1018  1.773820     1.252328         -1.887649               -0.048175   \n",
              "1019 -0.129317    -0.955452          0.580406               -0.048175   \n",
              "1020 -1.834959    -0.955452         -1.887649               -0.048175   \n",
              "1021  1.396783    -0.955452          0.580406               -0.048175   \n",
              "\n",
              "      work_type_Private  work_type_Self-employed  work_type_children  \\\n",
              "0             -1.313968                -0.552891            3.528453   \n",
              "1             -1.313968                -0.552891            3.528453   \n",
              "2              0.916106                -0.552891           -0.289766   \n",
              "3              0.916106                -0.552891           -0.289766   \n",
              "4             -1.313968                 2.188293           -0.289766   \n",
              "...                 ...                      ...                 ...   \n",
              "1017           0.916106                -0.552891           -0.289766   \n",
              "1018          -1.313968                -0.552891            3.528453   \n",
              "1019           0.916106                -0.552891           -0.289766   \n",
              "1020           0.916106                -0.552891           -0.289766   \n",
              "1021           0.916106                -0.552891           -0.289766   \n",
              "\n",
              "      Residence_type_Urban  smoking_status_never smoked  smoking_status_smokes  \n",
              "0                -1.169215                     0.862274              -0.472742  \n",
              "1                -1.169215                     0.862274              -0.472742  \n",
              "2                 1.026208                     0.862274              -0.472742  \n",
              "3                 1.026208                     0.862274              -0.472742  \n",
              "4                 1.026208                    -1.389598              -0.472742  \n",
              "...                    ...                          ...                    ...  \n",
              "1017             -1.169215                     0.862274              -0.472742  \n",
              "1018              1.026208                     0.862274              -0.472742  \n",
              "1019              1.026208                     0.862274              -0.472742  \n",
              "1020              1.026208                    -1.389598               2.551687  \n",
              "1021             -1.169215                     0.862274              -0.472742  \n",
              "\n",
              "[1022 rows x 15 columns]"
            ]
          },
          "execution_count": 47,
          "metadata": {},
          "output_type": "execute_result"
        }
      ],
      "source": [
        "x_test_scaled = pd.DataFrame(x_test_scaled, columns=scaler.get_feature_names_out())\n",
        "x_test_scaled"
      ]
    }
  ],
  "metadata": {
    "kernelspec": {
      "display_name": "Python 3.9.12 ('base')",
      "language": "python",
      "name": "python3"
    },
    "language_info": {
      "codemirror_mode": {
        "name": "ipython",
        "version": 3
      },
      "file_extension": ".py",
      "mimetype": "text/x-python",
      "name": "python",
      "nbconvert_exporter": "python",
      "pygments_lexer": "ipython3",
      "version": "3.9.12"
    },
    "orig_nbformat": 4,
    "vscode": {
      "interpreter": {
        "hash": "a71a9e4fb054fff428071484f7faa898cb9ecb31a518fe88e3463da9af879578"
      }
    },
    "colab": {
      "provenance": []
    }
  },
  "nbformat": 4,
  "nbformat_minor": 0
}